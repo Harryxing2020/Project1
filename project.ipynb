{
 "cells": [
  {
   "cell_type": "code",
   "execution_count": 87,
   "metadata": {},
   "outputs": [],
   "source": [
    "import gmaps\n",
    "import numpy as np\n",
    "import pandas as pd\n",
    "import requests\n",
    "import time\n",
    "from us import states\n",
    "from scipy.stats import linregress\n",
    "import matplotlib.pyplot as plt\n",
    "from census import Census\n",
    "from config import api_key,googlekey\n",
    "from pprint import pprint\n",
    "c = Census(api_key, year=2018)"
   ]
  },
  {
   "cell_type": "markdown",
   "metadata": {
    "tags": [
     "##",
     "Generate",
     "Cities",
     "List"
    ]
   },
   "source": [
    "## Perform API Calls for each gender's infection count\n",
    "* Check on each gender's infection number by API call.\n",
    "* Generate the santa_clara_covin_gender dataframe for display"
   ]
  },
  {
   "cell_type": "code",
   "execution_count": 92,
   "metadata": {},
   "outputs": [
    {
     "data": {
      "text/html": [
       "<div>\n",
       "<style scoped>\n",
       "    .dataframe tbody tr th:only-of-type {\n",
       "        vertical-align: middle;\n",
       "    }\n",
       "\n",
       "    .dataframe tbody tr th {\n",
       "        vertical-align: top;\n",
       "    }\n",
       "\n",
       "    .dataframe thead th {\n",
       "        text-align: right;\n",
       "    }\n",
       "</style>\n",
       "<table border=\"1\" class=\"dataframe\">\n",
       "  <thead>\n",
       "    <tr style=\"text-align: right;\">\n",
       "      <th></th>\n",
       "      <th>gender</th>\n",
       "      <th>confirm case</th>\n",
       "    </tr>\n",
       "  </thead>\n",
       "  <tbody>\n",
       "    <tr>\n",
       "      <th>0</th>\n",
       "      <td>Female</td>\n",
       "      <td>4622</td>\n",
       "    </tr>\n",
       "    <tr>\n",
       "      <th>1</th>\n",
       "      <td>Male</td>\n",
       "      <td>4563</td>\n",
       "    </tr>\n",
       "  </tbody>\n",
       "</table>\n",
       "</div>"
      ],
      "text/plain": [
       "   gender confirm case\n",
       "0  Female         4622\n",
       "1    Male         4563"
      ]
     },
     "execution_count": 92,
     "metadata": {},
     "output_type": "execute_result"
    }
   ],
   "source": [
    "#the url for infect case by gender in Santa Clara County\n",
    "url = \"https://data.sccgov.org/resource/ibdk-7rf5.json\"\n",
    "response = requests.get(url).json() \n",
    "#create gender dataframe\n",
    "santa_clara_covin_gender = pd.DataFrame(response)\n",
    "#clear the data for Male and female\n",
    "santa_clara_covin_gender = santa_clara_covin_gender.loc[\n",
    "                            (santa_clara_covin_gender.loc[:, \"gender\"]== \"Female\")\n",
    "                            |(santa_clara_covin_gender.loc[:, \"gender\"]== \"Male\" )]\n",
    "#remove two unused colums \n",
    "del santa_clara_covin_gender[\"percent\"]\n",
    "del santa_clara_covin_gender[\"rates\"]\n",
    "# rename the columns\n",
    "santa_clara_covin_gender = santa_clara_covin_gender.rename(columns={\n",
    "                                      \"count\": \"confirm case\", #rename column\n",
    "                                        })\n",
    "\n",
    "santa_clara_covin_gender.head()"
   ]
  },
  {
   "cell_type": "markdown",
   "metadata": {},
   "source": [
    "## Perform API Calls for death count of each gender\n",
    "* url = \"https://data.sccgov.org/resource/v49w-v4a7.json\"\n",
    "* Obtain each gender's death count by API call.\n",
    "* Obtain gender death count and create the santa_clara_covin_death dataframe\n",
    "* Meraging two dateframe by Gender column"
   ]
  },
  {
   "cell_type": "code",
   "execution_count": 93,
   "metadata": {
    "collapsed": true
   },
   "outputs": [
    {
     "data": {
      "text/html": [
       "<div>\n",
       "<style scoped>\n",
       "    .dataframe tbody tr th:only-of-type {\n",
       "        vertical-align: middle;\n",
       "    }\n",
       "\n",
       "    .dataframe tbody tr th {\n",
       "        vertical-align: top;\n",
       "    }\n",
       "\n",
       "    .dataframe thead th {\n",
       "        text-align: right;\n",
       "    }\n",
       "</style>\n",
       "<table border=\"1\" class=\"dataframe\">\n",
       "  <thead>\n",
       "    <tr style=\"text-align: right;\">\n",
       "      <th></th>\n",
       "      <th>gender</th>\n",
       "      <th>confirm case</th>\n",
       "      <th>death</th>\n",
       "    </tr>\n",
       "  </thead>\n",
       "  <tbody>\n",
       "    <tr>\n",
       "      <th>0</th>\n",
       "      <td>Female</td>\n",
       "      <td>4622</td>\n",
       "      <td>82</td>\n",
       "    </tr>\n",
       "    <tr>\n",
       "      <th>1</th>\n",
       "      <td>Male</td>\n",
       "      <td>4563</td>\n",
       "      <td>102</td>\n",
       "    </tr>\n",
       "  </tbody>\n",
       "</table>\n",
       "</div>"
      ],
      "text/plain": [
       "   gender confirm case death\n",
       "0  Female         4622    82\n",
       "1    Male         4563   102"
      ]
     },
     "execution_count": 93,
     "metadata": {},
     "output_type": "execute_result"
    }
   ],
   "source": [
    "#the url for death count by gender in Santa Clara County\n",
    "url = \"https://data.sccgov.org/resource/v49w-v4a7.json\"\n",
    "response = requests.get(url).json() \n",
    "#create gender dataframe\n",
    "santa_clara_covin_gender_death = pd.DataFrame(response)\n",
    "#remove two colums \n",
    "del santa_clara_covin_gender_death[\"percent\"]\n",
    "del santa_clara_covin_gender_death[\"rates\"]\n",
    "\n",
    "# rename the columns\n",
    "santa_clara_covin_gender_death = santa_clara_covin_gender_death.rename(columns={\n",
    "                                      \"counts\": \"death\", #rename column\n",
    "                                        })\n",
    "# merge two dataframes \n",
    "santa_clara_covin_gender = pd.merge(\n",
    "                                santa_clara_covin_gender, \n",
    "                                santa_clara_covin_gender_death, \n",
    "                                on = [\"gender\",\"gender\"])\n",
    "santa_clara_covin_gender"
   ]
  },
  {
   "cell_type": "markdown",
   "metadata": {},
   "source": [
    "## Calls census api for male and female population \n",
    "* Perform census API Calls for Male and Female population\n",
    "* Rename three columns."
   ]
  },
  {
   "cell_type": "code",
   "execution_count": 94,
   "metadata": {},
   "outputs": [
    {
     "data": {
      "text/html": [
       "<div>\n",
       "<style scoped>\n",
       "    .dataframe tbody tr th:only-of-type {\n",
       "        vertical-align: middle;\n",
       "    }\n",
       "\n",
       "    .dataframe tbody tr th {\n",
       "        vertical-align: top;\n",
       "    }\n",
       "\n",
       "    .dataframe thead th {\n",
       "        text-align: right;\n",
       "    }\n",
       "</style>\n",
       "<table border=\"1\" class=\"dataframe\">\n",
       "  <thead>\n",
       "    <tr style=\"text-align: right;\">\n",
       "      <th></th>\n",
       "      <th>NAME</th>\n",
       "      <th>population</th>\n",
       "      <th>male_pop</th>\n",
       "      <th>female_pop</th>\n",
       "      <th>state</th>\n",
       "      <th>county</th>\n",
       "    </tr>\n",
       "  </thead>\n",
       "  <tbody>\n",
       "    <tr>\n",
       "      <th>0</th>\n",
       "      <td>Santa Clara County, California</td>\n",
       "      <td>1922200.0</td>\n",
       "      <td>970469.0</td>\n",
       "      <td>951731.0</td>\n",
       "      <td>06</td>\n",
       "      <td>085</td>\n",
       "    </tr>\n",
       "  </tbody>\n",
       "</table>\n",
       "</div>"
      ],
      "text/plain": [
       "                             NAME  population  male_pop  female_pop state  \\\n",
       "0  Santa Clara County, California   1922200.0  970469.0    951731.0    06   \n",
       "\n",
       "  county  \n",
       "0    085  "
      ]
     },
     "execution_count": 94,
     "metadata": {},
     "output_type": "execute_result"
    }
   ],
   "source": [
    "# obtain gender population data from census \n",
    "census_data = c.acs5.state_county(('NAME',\n",
    "                                   'B01001_001E', # population \n",
    "                                   'B01001_002E', # male population\n",
    "                                   'B01001_026E' #fenale population\n",
    "                                  ), states.CA.fips, # california state\n",
    "                                    county_fips =\"085\", # Santa Clara county\n",
    "                                    year=2018 # the data for 2018\n",
    "                                    )\n",
    "\n",
    "#create demographic dataframe\n",
    "santa_clara_census_data = pd.DataFrame(census_data)\n",
    "santa_clara_census_data = santa_clara_census_data.rename(columns={\n",
    "                                      \"B01001_001E\": \"population\", #rename column\n",
    "                                      \"B01001_002E\": \"male_pop\",#rename column\n",
    "                                      \"B01001_026E\": \"female_pop\" #rename column\n",
    "                                        })\n",
    "santa_clara_census_data"
   ]
  },
  {
   "cell_type": "markdown",
   "metadata": {},
   "source": [
    "## Create population, infect and death rate columns\n",
    "* Insert popultion, infect rate and death rate column  "
   ]
  },
  {
   "cell_type": "code",
   "execution_count": 95,
   "metadata": {},
   "outputs": [
    {
     "data": {
      "text/html": [
       "<div>\n",
       "<style scoped>\n",
       "    .dataframe tbody tr th:only-of-type {\n",
       "        vertical-align: middle;\n",
       "    }\n",
       "\n",
       "    .dataframe tbody tr th {\n",
       "        vertical-align: top;\n",
       "    }\n",
       "\n",
       "    .dataframe thead th {\n",
       "        text-align: right;\n",
       "    }\n",
       "</style>\n",
       "<table border=\"1\" class=\"dataframe\">\n",
       "  <thead>\n",
       "    <tr style=\"text-align: right;\">\n",
       "      <th></th>\n",
       "      <th>gender</th>\n",
       "      <th>confirm case</th>\n",
       "      <th>death</th>\n",
       "      <th>population</th>\n",
       "      <th>infect rate %</th>\n",
       "      <th>death rate %</th>\n",
       "    </tr>\n",
       "  </thead>\n",
       "  <tbody>\n",
       "    <tr>\n",
       "      <th>0</th>\n",
       "      <td>Female</td>\n",
       "      <td>4622</td>\n",
       "      <td>82</td>\n",
       "      <td>951731.0</td>\n",
       "      <td>0.485641</td>\n",
       "      <td>1.774124</td>\n",
       "    </tr>\n",
       "    <tr>\n",
       "      <th>1</th>\n",
       "      <td>Male</td>\n",
       "      <td>4563</td>\n",
       "      <td>102</td>\n",
       "      <td>970469.0</td>\n",
       "      <td>0.470185</td>\n",
       "      <td>2.235371</td>\n",
       "    </tr>\n",
       "  </tbody>\n",
       "</table>\n",
       "</div>"
      ],
      "text/plain": [
       "   gender confirm case death  population  infect rate %  death rate %\n",
       "0  Female         4622    82    951731.0       0.485641      1.774124\n",
       "1    Male         4563   102    970469.0       0.470185      2.235371"
      ]
     },
     "execution_count": 95,
     "metadata": {},
     "output_type": "execute_result"
    }
   ],
   "source": [
    "# create a new column and insert the female and male population to the column\n",
    "santa_clara_covin_gender[\"population\"] = \\\n",
    "    santa_clara_census_data.loc[0, [\"female_pop\", \"male_pop\"]].to_list()\n",
    "# create a new coumn for infect rate\n",
    "santa_clara_covin_gender[\"infect rate %\"] = \\\n",
    "    100 *santa_clara_covin_gender[\"confirm case\"].astype(int)/ santa_clara_covin_gender[\"population\"].astype(int)\n",
    "# create a new coumn for death rate\n",
    "santa_clara_covin_gender[\"death rate %\"] = \\\n",
    "    100 *santa_clara_covin_gender[\"death\"].astype(int)/ santa_clara_covin_gender[\"confirm case\"].astype(int)\n",
    "santa_clara_covin_gender"
   ]
  },
  {
   "cell_type": "markdown",
   "metadata": {},
   "source": [
    "## Infect rate vs. Death rate Plot by Gender "
   ]
  },
  {
   "cell_type": "code",
   "execution_count": 96,
   "metadata": {},
   "outputs": [
    {
     "data": {
      "image/png": "[encoded data removed]",
      "text/plain": [
       "<Figure size 360x360 with 1 Axes>"
      ]
     },
     "metadata": {
      "needs_background": "light"
     },
     "output_type": "display_data"
    },
    {
     "data": {
      "text/plain": [
       "<Figure size 432x288 with 0 Axes>"
      ]
     },
     "metadata": {},
     "output_type": "display_data"
    }
   ],
   "source": [
    "#Create bar chars for infect rate and death rate \n",
    "multi_plot = santa_clara_covin_gender[['infect rate %', 'death rate %']].plot(kind=\"bar\", figsize=(5,5), color=['r','b'])\n",
    "# X axis from gender column\n",
    "multi_plot.set_xticklabels(santa_clara_covin_gender[\"gender\"], rotation=0)\n",
    "# setup title, x axis and y axis \n",
    "plt.title(\"Infect rate and Death rate by gender in Santa Clara County\")\n",
    "plt.xlabel(\"Gender\")\n",
    "plt.ylabel(\"rate\")\n",
    "x_offset = -0.1\n",
    "y_offset = 0.03\n",
    "\n",
    "for p in multi_plot.patches:\n",
    "    b = p.get_bbox()\n",
    "    val = \"{:.2f}\".format(b.y1 + b.y0)        \n",
    "    multi_plot.annotate(val, ((b.x0 + b.x1)/2 + x_offset, b.y1 + y_offset))\n",
    "plt.show()\n",
    "plt.tight_layout()"
   ]
  },
  {
   "cell_type": "markdown",
   "metadata": {},
   "source": [
    "## Perform API Calls for each race's death count\n",
    "* Check on each race's death number by API call.\n",
    "* Generate the santa_clara_covin_race_death dataframe"
   ]
  },
  {
   "cell_type": "code",
   "execution_count": 98,
   "metadata": {},
   "outputs": [
    {
     "data": {
      "text/html": [
       "<div>\n",
       "<style scoped>\n",
       "    .dataframe tbody tr th:only-of-type {\n",
       "        vertical-align: middle;\n",
       "    }\n",
       "\n",
       "    .dataframe tbody tr th {\n",
       "        vertical-align: top;\n",
       "    }\n",
       "\n",
       "    .dataframe thead th {\n",
       "        text-align: right;\n",
       "    }\n",
       "</style>\n",
       "<table border=\"1\" class=\"dataframe\">\n",
       "  <thead>\n",
       "    <tr style=\"text-align: right;\">\n",
       "      <th></th>\n",
       "      <th>race</th>\n",
       "      <th>death count</th>\n",
       "    </tr>\n",
       "  </thead>\n",
       "  <tbody>\n",
       "    <tr>\n",
       "      <th>0</th>\n",
       "      <td>African American</td>\n",
       "      <td>8</td>\n",
       "    </tr>\n",
       "    <tr>\n",
       "      <th>1</th>\n",
       "      <td>Asian</td>\n",
       "      <td>56</td>\n",
       "    </tr>\n",
       "    <tr>\n",
       "      <th>2</th>\n",
       "      <td>Latino</td>\n",
       "      <td>56</td>\n",
       "    </tr>\n",
       "    <tr>\n",
       "      <th>3</th>\n",
       "      <td>Native Hawaiian &amp; Other Pacific Islander</td>\n",
       "      <td>0</td>\n",
       "    </tr>\n",
       "    <tr>\n",
       "      <th>4</th>\n",
       "      <td>White</td>\n",
       "      <td>53</td>\n",
       "    </tr>\n",
       "  </tbody>\n",
       "</table>\n",
       "</div>"
      ],
      "text/plain": [
       "                                       race death count\n",
       "0                          African American           8\n",
       "1                                     Asian          56\n",
       "2                                    Latino          56\n",
       "3  Native Hawaiian & Other Pacific Islander           0\n",
       "4                                     White          53"
      ]
     },
     "execution_count": 98,
     "metadata": {},
     "output_type": "execute_result"
    }
   ],
   "source": [
    "#The URL for api call\n",
    "url = \"https://data.sccgov.org/resource/nd69-4zii.json\"\n",
    "# Call API\n",
    "response = requests.get(url).json() \n",
    "#Create dataframe\n",
    "santa_clara_covin_race_death = pd.DataFrame(response)\n",
    "#remove the unused api\n",
    "del santa_clara_covin_race_death[\"percent\"]\n",
    "del santa_clara_covin_race_death[\"rates\"]\n",
    "del santa_clara_covin_race_death[\"percent_pop\"]\n",
    "#rename column\n",
    "santa_clara_covin_race_death = santa_clara_covin_race_death.rename(columns={\n",
    "                                      \"race_eth\": \"race\", #rename column\n",
    "                                      \"counts\": \"death count\"#rename column\n",
    "                                        })\n",
    "santa_clara_covin_race_death.head()"
   ]
  },
  {
   "cell_type": "markdown",
   "metadata": {},
   "source": [
    "## Perform API Calls for each race's infection count\n",
    "* Check on each race's infection count by API call.\n",
    "* Generate the santa_clara_covin_race dataframe"
   ]
  },
  {
   "cell_type": "code",
   "execution_count": 100,
   "metadata": {},
   "outputs": [
    {
     "data": {
      "text/html": [
       "<div>\n",
       "<style scoped>\n",
       "    .dataframe tbody tr th:only-of-type {\n",
       "        vertical-align: middle;\n",
       "    }\n",
       "\n",
       "    .dataframe tbody tr th {\n",
       "        vertical-align: top;\n",
       "    }\n",
       "\n",
       "    .dataframe thead th {\n",
       "        text-align: right;\n",
       "    }\n",
       "</style>\n",
       "<table border=\"1\" class=\"dataframe\">\n",
       "  <thead>\n",
       "    <tr style=\"text-align: right;\">\n",
       "      <th></th>\n",
       "      <th>race</th>\n",
       "      <th>infect count</th>\n",
       "      <th>rates</th>\n",
       "      <th>percent_pop%</th>\n",
       "    </tr>\n",
       "  </thead>\n",
       "  <tbody>\n",
       "    <tr>\n",
       "      <th>0</th>\n",
       "      <td>African American</td>\n",
       "      <td>171</td>\n",
       "      <td>360.2</td>\n",
       "      <td>2.36</td>\n",
       "    </tr>\n",
       "    <tr>\n",
       "      <th>1</th>\n",
       "      <td>Asian</td>\n",
       "      <td>999</td>\n",
       "      <td>152.5</td>\n",
       "      <td>35.65</td>\n",
       "    </tr>\n",
       "    <tr>\n",
       "      <th>2</th>\n",
       "      <td>Latino</td>\n",
       "      <td>4281</td>\n",
       "      <td>782.7</td>\n",
       "      <td>25.78</td>\n",
       "    </tr>\n",
       "    <tr>\n",
       "      <th>3</th>\n",
       "      <td>Native Hawaiian &amp; Other Pacific Islander</td>\n",
       "      <td>61</td>\n",
       "      <td>864.1</td>\n",
       "      <td>0.32</td>\n",
       "    </tr>\n",
       "    <tr>\n",
       "      <th>4</th>\n",
       "      <td>White</td>\n",
       "      <td>1153</td>\n",
       "      <td>172</td>\n",
       "      <td>32.04</td>\n",
       "    </tr>\n",
       "  </tbody>\n",
       "</table>\n",
       "</div>"
      ],
      "text/plain": [
       "                                       race infect count  rates percent_pop%\n",
       "0                          African American          171  360.2         2.36\n",
       "1                                     Asian          999  152.5        35.65\n",
       "2                                    Latino         4281  782.7        25.78\n",
       "3  Native Hawaiian & Other Pacific Islander           61  864.1         0.32\n",
       "4                                     White         1153    172        32.04"
      ]
     },
     "execution_count": 100,
     "metadata": {},
     "output_type": "execute_result"
    }
   ],
   "source": [
    "#api url\n",
    "url = \"https://data.sccgov.org/resource/ccm2-45w3.json\"\n",
    "# Call API\n",
    "response = requests.get(url).json() \n",
    "#create dataframe\n",
    "santa_clara_covin_race = pd.DataFrame(response)\n",
    "#remove the unused column\n",
    "del santa_clara_covin_race[\"percent_group\"]\n",
    "#rename coulmns\n",
    "santa_clara_covin_race = santa_clara_covin_race.rename(columns={\n",
    "                                        \"race_eth\": \"race\", #rename column\n",
    "                                        \"percent_pop\": \"percent_pop%\", #rename column\n",
    "                                        \"count\": \"infect count\"#rename column\n",
    "                                        })\n",
    "#remove the NaN data\n",
    "santa_clara_covin_race = santa_clara_covin_race.dropna()\n",
    "santa_clara_covin_race"
   ]
  },
  {
   "cell_type": "markdown",
   "metadata": {},
   "source": [
    "## Perform merging two infection and death dataframes of each race\n",
    "* Merge two dataframes \n",
    "* cut Native Hawaiian value string \n",
    "* create three columns, death rate%, percent_pop% and rates"
   ]
  },
  {
   "cell_type": "code",
   "execution_count": 102,
   "metadata": {},
   "outputs": [
    {
     "data": {
      "text/html": [
       "<div>\n",
       "<style scoped>\n",
       "    .dataframe tbody tr th:only-of-type {\n",
       "        vertical-align: middle;\n",
       "    }\n",
       "\n",
       "    .dataframe tbody tr th {\n",
       "        vertical-align: top;\n",
       "    }\n",
       "\n",
       "    .dataframe thead th {\n",
       "        text-align: right;\n",
       "    }\n",
       "</style>\n",
       "<table border=\"1\" class=\"dataframe\">\n",
       "  <thead>\n",
       "    <tr style=\"text-align: right;\">\n",
       "      <th></th>\n",
       "      <th>race</th>\n",
       "      <th>infect count</th>\n",
       "      <th>rates</th>\n",
       "      <th>percent_pop%</th>\n",
       "      <th>death count</th>\n",
       "      <th>death rate%</th>\n",
       "    </tr>\n",
       "  </thead>\n",
       "  <tbody>\n",
       "    <tr>\n",
       "      <th>0</th>\n",
       "      <td>African American</td>\n",
       "      <td>171</td>\n",
       "      <td>3.602</td>\n",
       "      <td>2.36</td>\n",
       "      <td>8</td>\n",
       "      <td>4.678363</td>\n",
       "    </tr>\n",
       "    <tr>\n",
       "      <th>1</th>\n",
       "      <td>Asian</td>\n",
       "      <td>999</td>\n",
       "      <td>1.525</td>\n",
       "      <td>35.65</td>\n",
       "      <td>56</td>\n",
       "      <td>5.605606</td>\n",
       "    </tr>\n",
       "    <tr>\n",
       "      <th>2</th>\n",
       "      <td>Latino</td>\n",
       "      <td>4281</td>\n",
       "      <td>7.827</td>\n",
       "      <td>25.78</td>\n",
       "      <td>56</td>\n",
       "      <td>1.308106</td>\n",
       "    </tr>\n",
       "    <tr>\n",
       "      <th>3</th>\n",
       "      <td>Native Hawaiian</td>\n",
       "      <td>61</td>\n",
       "      <td>8.641</td>\n",
       "      <td>0.32</td>\n",
       "      <td>0</td>\n",
       "      <td>0.000000</td>\n",
       "    </tr>\n",
       "    <tr>\n",
       "      <th>4</th>\n",
       "      <td>White</td>\n",
       "      <td>1153</td>\n",
       "      <td>1.720</td>\n",
       "      <td>32.04</td>\n",
       "      <td>53</td>\n",
       "      <td>4.596704</td>\n",
       "    </tr>\n",
       "  </tbody>\n",
       "</table>\n",
       "</div>"
      ],
      "text/plain": [
       "               race infect count  rates  percent_pop% death count  death rate%\n",
       "0  African American          171  3.602          2.36           8     4.678363\n",
       "1             Asian          999  1.525         35.65          56     5.605606\n",
       "2            Latino         4281  7.827         25.78          56     1.308106\n",
       "3   Native Hawaiian           61  8.641          0.32           0     0.000000\n",
       "4             White         1153  1.720         32.04          53     4.596704"
      ]
     },
     "execution_count": 102,
     "metadata": {},
     "output_type": "execute_result"
    }
   ],
   "source": [
    "# Merge two dataframes\n",
    "santa_clara_covin_race_final = pd.merge(santa_clara_covin_race,\n",
    "                                        santa_clara_covin_race_death, \n",
    "                                        on = [\"race\",\"race\"])\n",
    "#cut Native Hawaiian value string\n",
    "row_hawaii = santa_clara_covin_race_final[\"race\"] == \"Native Hawaiian & Other Pacific Islander\"\n",
    "santa_clara_covin_race_final.loc[row_hawaii, \"race\"] = \"Native Hawaiian\"\n",
    "\n",
    "#create three columns, death rate%, percent_pop% and rates\n",
    "santa_clara_covin_race_final[\"death rate%\"] = \\\n",
    "            100 * santa_clara_covin_race_final[\"death count\"].astype(int)/santa_clara_covin_race_final[\"infect count\"].astype(int)\n",
    "santa_clara_covin_race_final[\"percent_pop%\"] = \\\n",
    "            santa_clara_covin_race_final[\"percent_pop%\"].astype(float)\n",
    "santa_clara_covin_race_final[\"rates\"] = \\\n",
    "            santa_clara_covin_race_final[\"rates\"].astype(float) /100\n",
    "santa_clara_covin_race_final"
   ]
  },
  {
   "cell_type": "markdown",
   "metadata": {},
   "source": [
    "## Infect rate vs. Death rate Plot by race "
   ]
  },
  {
   "cell_type": "code",
   "execution_count": 103,
   "metadata": {},
   "outputs": [
    {
     "data": {
      "image/png": "[encoded data removed]",
      "text/plain": [
       "<Figure size 720x360 with 1 Axes>"
      ]
     },
     "metadata": {
      "needs_background": "light"
     },
     "output_type": "display_data"
    },
    {
     "data": {
      "text/html": [
       "<div>\n",
       "<style scoped>\n",
       "    .dataframe tbody tr th:only-of-type {\n",
       "        vertical-align: middle;\n",
       "    }\n",
       "\n",
       "    .dataframe tbody tr th {\n",
       "        vertical-align: top;\n",
       "    }\n",
       "\n",
       "    .dataframe thead th {\n",
       "        text-align: right;\n",
       "    }\n",
       "</style>\n",
       "<table border=\"1\" class=\"dataframe\">\n",
       "  <thead>\n",
       "    <tr style=\"text-align: right;\">\n",
       "      <th></th>\n",
       "      <th>race</th>\n",
       "      <th>infect count</th>\n",
       "      <th>rates</th>\n",
       "      <th>percent_pop%</th>\n",
       "      <th>death count</th>\n",
       "      <th>death rate%</th>\n",
       "    </tr>\n",
       "  </thead>\n",
       "  <tbody>\n",
       "    <tr>\n",
       "      <th>0</th>\n",
       "      <td>African American</td>\n",
       "      <td>171</td>\n",
       "      <td>3.602</td>\n",
       "      <td>2.36</td>\n",
       "      <td>8</td>\n",
       "      <td>4.678363</td>\n",
       "    </tr>\n",
       "    <tr>\n",
       "      <th>1</th>\n",
       "      <td>Asian</td>\n",
       "      <td>999</td>\n",
       "      <td>1.525</td>\n",
       "      <td>35.65</td>\n",
       "      <td>56</td>\n",
       "      <td>5.605606</td>\n",
       "    </tr>\n",
       "    <tr>\n",
       "      <th>2</th>\n",
       "      <td>Latino</td>\n",
       "      <td>4281</td>\n",
       "      <td>7.827</td>\n",
       "      <td>25.78</td>\n",
       "      <td>56</td>\n",
       "      <td>1.308106</td>\n",
       "    </tr>\n",
       "  </tbody>\n",
       "</table>\n",
       "</div>"
      ],
      "text/plain": [
       "               race infect count  rates  percent_pop% death count  death rate%\n",
       "0  African American          171  3.602          2.36           8     4.678363\n",
       "1             Asian          999  1.525         35.65          56     5.605606\n",
       "2            Latino         4281  7.827         25.78          56     1.308106"
      ]
     },
     "execution_count": 103,
     "metadata": {},
     "output_type": "execute_result"
    },
    {
     "data": {
      "text/plain": [
       "<Figure size 432x288 with 0 Axes>"
      ]
     },
     "metadata": {},
     "output_type": "display_data"
    }
   ],
   "source": [
    "multi_plot = santa_clara_covin_race_final[[\"rates\", 'death rate%']].astype(float).plot(kind=\"bar\", figsize=(10,5), color=['r','b'])\n",
    "multi_plot.set_xticklabels(santa_clara_covin_race_final[\"race\"], rotation=0)\n",
    "plt.title(\"Infect rate and death rate% by race in Santa Clara County\")\n",
    "plt.xlabel(\"race\")\n",
    "plt.ylabel(\"death rate\")\n",
    "x_offset = -0.1\n",
    "y_offset = 0.1\n",
    "\n",
    "for p in multi_plot.patches:\n",
    "    b = p.get_bbox()\n",
    "    val = \"{:.2f}\".format(b.y1 + b.y0)        \n",
    "    multi_plot.annotate(val, ((b.x0 + b.x1)/2 + x_offset, b.y1 + y_offset))\n",
    "plt.show()\n",
    "plt.tight_layout()\n",
    "santa_clara_covin_race_final.head(3)"
   ]
  },
  {
   "cell_type": "markdown",
   "metadata": {},
   "source": [
    "## Perform API Calls for covin19 transmission method\n",
    "* Check on transmission method by API call.\n",
    "* Generate the santa_clara_method_transmission dataframe"
   ]
  },
  {
   "cell_type": "code",
   "execution_count": 104,
   "metadata": {},
   "outputs": [],
   "source": [
    "#api url\n",
    "url = \"https://data.sccgov.org/resource/xar3-th86.json\"\n",
    "#api call\n",
    "response = requests.get(url).json() \n",
    "#create dataframe\n",
    "santa_clara_method_transmission = pd.DataFrame(response)\n",
    "#convert string to float\n",
    "santa_clara_method_transmission.loc[:,\"percent\"] = \\\n",
    "    santa_clara_method_transmission.loc[:,\"percent\"].astype(float)"
   ]
  },
  {
   "cell_type": "markdown",
   "metadata": {},
   "source": [
    "## Transmission pie Chart"
   ]
  },
  {
   "cell_type": "code",
   "execution_count": 105,
   "metadata": {
    "scrolled": true
   },
   "outputs": [
    {
     "data": {
      "image/png": "[encoded data removed]",
      "text/plain": [
       "<Figure size 864x432 with 2 Axes>"
      ]
     },
     "metadata": {
      "needs_background": "light"
     },
     "output_type": "display_data"
    },
    {
     "data": {
      "text/html": [
       "<div>\n",
       "<style scoped>\n",
       "    .dataframe tbody tr th:only-of-type {\n",
       "        vertical-align: middle;\n",
       "    }\n",
       "\n",
       "    .dataframe tbody tr th {\n",
       "        vertical-align: top;\n",
       "    }\n",
       "\n",
       "    .dataframe thead th {\n",
       "        text-align: right;\n",
       "    }\n",
       "</style>\n",
       "<table border=\"1\" class=\"dataframe\">\n",
       "  <thead>\n",
       "    <tr style=\"text-align: right;\">\n",
       "      <th></th>\n",
       "      <th>category</th>\n",
       "      <th>counts</th>\n",
       "      <th>percent</th>\n",
       "    </tr>\n",
       "  </thead>\n",
       "  <tbody>\n",
       "    <tr>\n",
       "      <th>0</th>\n",
       "      <td>Outbreak Associated</td>\n",
       "      <td>464</td>\n",
       "      <td>7.1</td>\n",
       "    </tr>\n",
       "    <tr>\n",
       "      <th>1</th>\n",
       "      <td>Contact to a Case</td>\n",
       "      <td>1333</td>\n",
       "      <td>20.3</td>\n",
       "    </tr>\n",
       "    <tr>\n",
       "      <th>2</th>\n",
       "      <td>Travel</td>\n",
       "      <td>39</td>\n",
       "      <td>0.6</td>\n",
       "    </tr>\n",
       "    <tr>\n",
       "      <th>3</th>\n",
       "      <td>Unknown/Presumed Community Transmission</td>\n",
       "      <td>4739</td>\n",
       "      <td>72.1</td>\n",
       "    </tr>\n",
       "  </tbody>\n",
       "</table>\n",
       "</div>"
      ],
      "text/plain": [
       "                                  category counts  percent\n",
       "0                      Outbreak Associated    464      7.1\n",
       "1                        Contact to a Case   1333     20.3\n",
       "2                                   Travel     39      0.6\n",
       "3  Unknown/Presumed Community Transmission   4739     72.1"
      ]
     },
     "execution_count": 105,
     "metadata": {},
     "output_type": "execute_result"
    }
   ],
   "source": [
    "plt.figure(figsize=(12,6))\n",
    "# plot chart\n",
    "ax1 = plt.subplot(121, aspect='equal')\n",
    "santa_clara_method_transmission.plot(kind='pie', y = 'percent', ax=ax1, autopct='%1.1f%%', \n",
    "         startangle=90, shadow=False, labels=santa_clara_method_transmission['category'], legend = False, fontsize=14)\n",
    "# plot table\n",
    "ax2 = plt.subplot(122)\n",
    "plt.axis('off')\n",
    "plt.show()\n",
    "santa_clara_method_transmission"
   ]
  },
  {
   "cell_type": "markdown",
   "metadata": {},
   "source": [
    "## Perform API Calls infection count by age range\n",
    "* Check on infection count by API call.\n",
    "* Generate the santa_clara_covin_age dataframe"
   ]
  },
  {
   "cell_type": "code",
   "execution_count": 107,
   "metadata": {},
   "outputs": [
    {
     "data": {
      "text/html": [
       "<div>\n",
       "<style scoped>\n",
       "    .dataframe tbody tr th:only-of-type {\n",
       "        vertical-align: middle;\n",
       "    }\n",
       "\n",
       "    .dataframe tbody tr th {\n",
       "        vertical-align: top;\n",
       "    }\n",
       "\n",
       "    .dataframe thead th {\n",
       "        text-align: right;\n",
       "    }\n",
       "</style>\n",
       "<table border=\"1\" class=\"dataframe\">\n",
       "  <thead>\n",
       "    <tr style=\"text-align: right;\">\n",
       "      <th></th>\n",
       "      <th>age</th>\n",
       "      <th>infect count</th>\n",
       "      <th>percent</th>\n",
       "      <th>infect_rates</th>\n",
       "    </tr>\n",
       "  </thead>\n",
       "  <tbody>\n",
       "    <tr>\n",
       "      <th>0</th>\n",
       "      <td>19 or under</td>\n",
       "      <td>1265</td>\n",
       "      <td>13.7</td>\n",
       "      <td>257.9</td>\n",
       "    </tr>\n",
       "    <tr>\n",
       "      <th>1</th>\n",
       "      <td>20-29</td>\n",
       "      <td>1786</td>\n",
       "      <td>19.4</td>\n",
       "      <td>722.6</td>\n",
       "    </tr>\n",
       "    <tr>\n",
       "      <th>2</th>\n",
       "      <td>30-39</td>\n",
       "      <td>1710</td>\n",
       "      <td>18.6</td>\n",
       "      <td>626.9</td>\n",
       "    </tr>\n",
       "    <tr>\n",
       "      <th>3</th>\n",
       "      <td>40-49</td>\n",
       "      <td>1574</td>\n",
       "      <td>17.1</td>\n",
       "      <td>551.4</td>\n",
       "    </tr>\n",
       "    <tr>\n",
       "      <th>4</th>\n",
       "      <td>50-59</td>\n",
       "      <td>1238</td>\n",
       "      <td>13.4</td>\n",
       "      <td>456.6</td>\n",
       "    </tr>\n",
       "    <tr>\n",
       "      <th>5</th>\n",
       "      <td>60-69</td>\n",
       "      <td>789</td>\n",
       "      <td>8.6</td>\n",
       "      <td>365.7</td>\n",
       "    </tr>\n",
       "    <tr>\n",
       "      <th>6</th>\n",
       "      <td>70-79</td>\n",
       "      <td>425</td>\n",
       "      <td>4.6</td>\n",
       "      <td>318.1</td>\n",
       "    </tr>\n",
       "    <tr>\n",
       "      <th>7</th>\n",
       "      <td>80-89</td>\n",
       "      <td>264</td>\n",
       "      <td>2.9</td>\n",
       "      <td>414.4</td>\n",
       "    </tr>\n",
       "    <tr>\n",
       "      <th>8</th>\n",
       "      <td>90+</td>\n",
       "      <td>154</td>\n",
       "      <td>1.7</td>\n",
       "      <td>938.1</td>\n",
       "    </tr>\n",
       "  </tbody>\n",
       "</table>\n",
       "</div>"
      ],
      "text/plain": [
       "           age infect count percent infect_rates\n",
       "0  19 or under         1265    13.7        257.9\n",
       "1        20-29         1786    19.4        722.6\n",
       "2        30-39         1710    18.6        626.9\n",
       "3        40-49         1574    17.1        551.4\n",
       "4        50-59         1238    13.4        456.6\n",
       "5        60-69          789     8.6        365.7\n",
       "6        70-79          425     4.6        318.1\n",
       "7        80-89          264     2.9        414.4\n",
       "8          90+          154     1.7        938.1"
      ]
     },
     "execution_count": 107,
     "metadata": {},
     "output_type": "execute_result"
    }
   ],
   "source": [
    "#API url\n",
    "url = \"https://data.sccgov.org/resource/ige8-ixqu.json\"\n",
    "#API call \n",
    "response = requests.get(url).json() \n",
    "#create dataframe \n",
    "santa_clara_covin_age = pd.DataFrame(response)\n",
    "santa_clara_covin_age = santa_clara_covin_age.rename(columns={\n",
    "                                        \"age_group\": \"age\", #rename column\n",
    "                                        \"count\": \"infect count\", #rename column\n",
    "                                        \"rates\": \"infect_rates\"#rename column\n",
    "                                        })\n",
    "#drop all NaN data\n",
    "santa_clara_covin_age=santa_clara_covin_age.dropna()\n",
    "santa_clara_covin_age"
   ]
  },
  {
   "cell_type": "markdown",
   "metadata": {},
   "source": [
    "## Perform API Calls death count by age range\n",
    "* Check on death count by API call.\n",
    "* Generate the santa_clara_covin_age_death dataframe"
   ]
  },
  {
   "cell_type": "code",
   "execution_count": 111,
   "metadata": {},
   "outputs": [
    {
     "data": {
      "text/html": [
       "<div>\n",
       "<style scoped>\n",
       "    .dataframe tbody tr th:only-of-type {\n",
       "        vertical-align: middle;\n",
       "    }\n",
       "\n",
       "    .dataframe tbody tr th {\n",
       "        vertical-align: top;\n",
       "    }\n",
       "\n",
       "    .dataframe thead th {\n",
       "        text-align: right;\n",
       "    }\n",
       "</style>\n",
       "<table border=\"1\" class=\"dataframe\">\n",
       "  <thead>\n",
       "    <tr style=\"text-align: right;\">\n",
       "      <th></th>\n",
       "      <th>age</th>\n",
       "      <th>death count</th>\n",
       "      <th>percent</th>\n",
       "      <th>rates</th>\n",
       "    </tr>\n",
       "  </thead>\n",
       "  <tbody>\n",
       "    <tr>\n",
       "      <th>0</th>\n",
       "      <td>19 or under</td>\n",
       "      <td>0</td>\n",
       "      <td>0</td>\n",
       "      <td>0</td>\n",
       "    </tr>\n",
       "    <tr>\n",
       "      <th>1</th>\n",
       "      <td>20-29</td>\n",
       "      <td>0</td>\n",
       "      <td>0</td>\n",
       "      <td>0</td>\n",
       "    </tr>\n",
       "    <tr>\n",
       "      <th>2</th>\n",
       "      <td>30-39</td>\n",
       "      <td>4</td>\n",
       "      <td>2.2</td>\n",
       "      <td>1.5</td>\n",
       "    </tr>\n",
       "    <tr>\n",
       "      <th>3</th>\n",
       "      <td>40-49</td>\n",
       "      <td>6</td>\n",
       "      <td>3.3</td>\n",
       "      <td>2.1</td>\n",
       "    </tr>\n",
       "    <tr>\n",
       "      <th>4</th>\n",
       "      <td>50-59</td>\n",
       "      <td>19</td>\n",
       "      <td>10.3</td>\n",
       "      <td>7</td>\n",
       "    </tr>\n",
       "    <tr>\n",
       "      <th>5</th>\n",
       "      <td>60-69</td>\n",
       "      <td>30</td>\n",
       "      <td>16.3</td>\n",
       "      <td>13.9</td>\n",
       "    </tr>\n",
       "    <tr>\n",
       "      <th>6</th>\n",
       "      <td>70-79</td>\n",
       "      <td>42</td>\n",
       "      <td>22.8</td>\n",
       "      <td>31.4</td>\n",
       "    </tr>\n",
       "    <tr>\n",
       "      <th>7</th>\n",
       "      <td>80-89</td>\n",
       "      <td>43</td>\n",
       "      <td>23.4</td>\n",
       "      <td>67.5</td>\n",
       "    </tr>\n",
       "    <tr>\n",
       "      <th>8</th>\n",
       "      <td>90+</td>\n",
       "      <td>40</td>\n",
       "      <td>21.7</td>\n",
       "      <td>243.7</td>\n",
       "    </tr>\n",
       "  </tbody>\n",
       "</table>\n",
       "</div>"
      ],
      "text/plain": [
       "           age death count percent  rates\n",
       "0  19 or under           0       0      0\n",
       "1        20-29           0       0      0\n",
       "2        30-39           4     2.2    1.5\n",
       "3        40-49           6     3.3    2.1\n",
       "4        50-59          19    10.3      7\n",
       "5        60-69          30    16.3   13.9\n",
       "6        70-79          42    22.8   31.4\n",
       "7        80-89          43    23.4   67.5\n",
       "8          90+          40    21.7  243.7"
      ]
     },
     "execution_count": 111,
     "metadata": {},
     "output_type": "execute_result"
    }
   ],
   "source": [
    "#url\n",
    "url = \"https://data.sccgov.org/resource/pg8z-gbgv.json\"\n",
    "#call api\n",
    "response = requests.get(url).json() \n",
    "#create dataframe\n",
    "santa_clara_covin_age_death = pd.DataFrame(response)\n",
    "#rename columns\n",
    "santa_clara_covin_age_death = santa_clara_covin_age_death.rename(columns={\n",
    "                                        \"age_group\": \"age\", #rename column\n",
    "                                        \"count\": \"death count\"#rename column\n",
    "                                        })\n",
    "#drop all NaN data\n",
    "santa_clara_covin_age_death=santa_clara_covin_age_death.dropna()\n",
    "#clean unknown rows \n",
    "santa_clara_covin_age_death = santa_clara_covin_age_death.loc[santa_clara_covin_age_death.loc[:,\"age\"] != \"Unknown\"]\n",
    "santa_clara_covin_age_death"
   ]
  },
  {
   "cell_type": "markdown",
   "metadata": {},
   "source": [
    "## Merage two infection and death count dataframes "
   ]
  },
  {
   "cell_type": "code",
   "execution_count": 112,
   "metadata": {},
   "outputs": [
    {
     "data": {
      "text/html": [
       "<div>\n",
       "<style scoped>\n",
       "    .dataframe tbody tr th:only-of-type {\n",
       "        vertical-align: middle;\n",
       "    }\n",
       "\n",
       "    .dataframe tbody tr th {\n",
       "        vertical-align: top;\n",
       "    }\n",
       "\n",
       "    .dataframe thead th {\n",
       "        text-align: right;\n",
       "    }\n",
       "</style>\n",
       "<table border=\"1\" class=\"dataframe\">\n",
       "  <thead>\n",
       "    <tr style=\"text-align: right;\">\n",
       "      <th></th>\n",
       "      <th>age</th>\n",
       "      <th>infect count</th>\n",
       "      <th>percent_x</th>\n",
       "      <th>infect_rates</th>\n",
       "      <th>death count</th>\n",
       "      <th>percent_y</th>\n",
       "      <th>rates</th>\n",
       "      <th>death rate</th>\n",
       "    </tr>\n",
       "  </thead>\n",
       "  <tbody>\n",
       "    <tr>\n",
       "      <th>0</th>\n",
       "      <td>19 or under</td>\n",
       "      <td>1265</td>\n",
       "      <td>13.7</td>\n",
       "      <td>257.9</td>\n",
       "      <td>0</td>\n",
       "      <td>0</td>\n",
       "      <td>0</td>\n",
       "      <td>0.000000</td>\n",
       "    </tr>\n",
       "    <tr>\n",
       "      <th>1</th>\n",
       "      <td>20-29</td>\n",
       "      <td>1786</td>\n",
       "      <td>19.4</td>\n",
       "      <td>722.6</td>\n",
       "      <td>0</td>\n",
       "      <td>0</td>\n",
       "      <td>0</td>\n",
       "      <td>0.000000</td>\n",
       "    </tr>\n",
       "    <tr>\n",
       "      <th>2</th>\n",
       "      <td>30-39</td>\n",
       "      <td>1710</td>\n",
       "      <td>18.6</td>\n",
       "      <td>626.9</td>\n",
       "      <td>4</td>\n",
       "      <td>2.2</td>\n",
       "      <td>1.5</td>\n",
       "      <td>0.233918</td>\n",
       "    </tr>\n",
       "    <tr>\n",
       "      <th>3</th>\n",
       "      <td>40-49</td>\n",
       "      <td>1574</td>\n",
       "      <td>17.1</td>\n",
       "      <td>551.4</td>\n",
       "      <td>6</td>\n",
       "      <td>3.3</td>\n",
       "      <td>2.1</td>\n",
       "      <td>0.381194</td>\n",
       "    </tr>\n",
       "    <tr>\n",
       "      <th>4</th>\n",
       "      <td>50-59</td>\n",
       "      <td>1238</td>\n",
       "      <td>13.4</td>\n",
       "      <td>456.6</td>\n",
       "      <td>19</td>\n",
       "      <td>10.3</td>\n",
       "      <td>7</td>\n",
       "      <td>1.534733</td>\n",
       "    </tr>\n",
       "    <tr>\n",
       "      <th>5</th>\n",
       "      <td>60-69</td>\n",
       "      <td>789</td>\n",
       "      <td>8.6</td>\n",
       "      <td>365.7</td>\n",
       "      <td>30</td>\n",
       "      <td>16.3</td>\n",
       "      <td>13.9</td>\n",
       "      <td>3.802281</td>\n",
       "    </tr>\n",
       "    <tr>\n",
       "      <th>6</th>\n",
       "      <td>70-79</td>\n",
       "      <td>425</td>\n",
       "      <td>4.6</td>\n",
       "      <td>318.1</td>\n",
       "      <td>42</td>\n",
       "      <td>22.8</td>\n",
       "      <td>31.4</td>\n",
       "      <td>9.882353</td>\n",
       "    </tr>\n",
       "    <tr>\n",
       "      <th>7</th>\n",
       "      <td>80-89</td>\n",
       "      <td>264</td>\n",
       "      <td>2.9</td>\n",
       "      <td>414.4</td>\n",
       "      <td>43</td>\n",
       "      <td>23.4</td>\n",
       "      <td>67.5</td>\n",
       "      <td>16.287879</td>\n",
       "    </tr>\n",
       "    <tr>\n",
       "      <th>8</th>\n",
       "      <td>90+</td>\n",
       "      <td>154</td>\n",
       "      <td>1.7</td>\n",
       "      <td>938.1</td>\n",
       "      <td>40</td>\n",
       "      <td>21.7</td>\n",
       "      <td>243.7</td>\n",
       "      <td>25.974026</td>\n",
       "    </tr>\n",
       "  </tbody>\n",
       "</table>\n",
       "</div>"
      ],
      "text/plain": [
       "           age infect count percent_x infect_rates death count percent_y  \\\n",
       "0  19 or under         1265      13.7        257.9           0         0   \n",
       "1        20-29         1786      19.4        722.6           0         0   \n",
       "2        30-39         1710      18.6        626.9           4       2.2   \n",
       "3        40-49         1574      17.1        551.4           6       3.3   \n",
       "4        50-59         1238      13.4        456.6          19      10.3   \n",
       "5        60-69          789       8.6        365.7          30      16.3   \n",
       "6        70-79          425       4.6        318.1          42      22.8   \n",
       "7        80-89          264       2.9        414.4          43      23.4   \n",
       "8          90+          154       1.7        938.1          40      21.7   \n",
       "\n",
       "   rates  death rate  \n",
       "0      0    0.000000  \n",
       "1      0    0.000000  \n",
       "2    1.5    0.233918  \n",
       "3    2.1    0.381194  \n",
       "4      7    1.534733  \n",
       "5   13.9    3.802281  \n",
       "6   31.4    9.882353  \n",
       "7   67.5   16.287879  \n",
       "8  243.7   25.974026  "
      ]
     },
     "execution_count": 112,
     "metadata": {},
     "output_type": "execute_result"
    }
   ],
   "source": [
    "#merage two dataframes\n",
    "santa_clara_covin_age_death = pd.merge(santa_clara_covin_age, santa_clara_covin_age_death, on = [\"age\",\"age\"])\n",
    "#creat a new column\n",
    "santa_clara_covin_age_death[\"death rate\"] = \\\n",
    "    100 * santa_clara_covin_age_death[\"death count\"].astype(int)/santa_clara_covin_age_death[\"infect count\"].astype(int)\n",
    "santa_clara_covin_age_death"
   ]
  },
  {
   "cell_type": "markdown",
   "metadata": {},
   "source": [
    "## Age range vs. Death rate Plot "
   ]
  },
  {
   "cell_type": "code",
   "execution_count": 113,
   "metadata": {},
   "outputs": [
    {
     "name": "stdout",
     "output_type": "stream",
     "text": [
      "The r-squared is: 0.8690012175894569\n",
      "The regression displays a positive correlation.\n"
     ]
    },
    {
     "data": {
      "image/png": "[encoded data removed]",
      "text/plain": [
       "<Figure size 432x288 with 1 Axes>"
      ]
     },
     "metadata": {
      "needs_background": "light"
     },
     "output_type": "display_data"
    },
    {
     "data": {
      "text/html": [
       "<div>\n",
       "<style scoped>\n",
       "    .dataframe tbody tr th:only-of-type {\n",
       "        vertical-align: middle;\n",
       "    }\n",
       "\n",
       "    .dataframe tbody tr th {\n",
       "        vertical-align: top;\n",
       "    }\n",
       "\n",
       "    .dataframe thead th {\n",
       "        text-align: right;\n",
       "    }\n",
       "</style>\n",
       "<table border=\"1\" class=\"dataframe\">\n",
       "  <thead>\n",
       "    <tr style=\"text-align: right;\">\n",
       "      <th></th>\n",
       "      <th>age</th>\n",
       "      <th>infect count</th>\n",
       "      <th>percent_x</th>\n",
       "      <th>infect_rates</th>\n",
       "      <th>death count</th>\n",
       "      <th>percent_y</th>\n",
       "      <th>rates</th>\n",
       "      <th>death rate</th>\n",
       "      <th>age_x</th>\n",
       "    </tr>\n",
       "  </thead>\n",
       "  <tbody>\n",
       "    <tr>\n",
       "      <th>0</th>\n",
       "      <td>19 or under</td>\n",
       "      <td>1265</td>\n",
       "      <td>13.7</td>\n",
       "      <td>257.9</td>\n",
       "      <td>0</td>\n",
       "      <td>0</td>\n",
       "      <td>0</td>\n",
       "      <td>0.000000</td>\n",
       "      <td>15</td>\n",
       "    </tr>\n",
       "    <tr>\n",
       "      <th>1</th>\n",
       "      <td>20-29</td>\n",
       "      <td>1786</td>\n",
       "      <td>19.4</td>\n",
       "      <td>722.6</td>\n",
       "      <td>0</td>\n",
       "      <td>0</td>\n",
       "      <td>0</td>\n",
       "      <td>0.000000</td>\n",
       "      <td>25</td>\n",
       "    </tr>\n",
       "    <tr>\n",
       "      <th>2</th>\n",
       "      <td>30-39</td>\n",
       "      <td>1710</td>\n",
       "      <td>18.6</td>\n",
       "      <td>626.9</td>\n",
       "      <td>4</td>\n",
       "      <td>2.2</td>\n",
       "      <td>1.5</td>\n",
       "      <td>0.233918</td>\n",
       "      <td>35</td>\n",
       "    </tr>\n",
       "    <tr>\n",
       "      <th>3</th>\n",
       "      <td>40-49</td>\n",
       "      <td>1574</td>\n",
       "      <td>17.1</td>\n",
       "      <td>551.4</td>\n",
       "      <td>6</td>\n",
       "      <td>3.3</td>\n",
       "      <td>2.1</td>\n",
       "      <td>0.381194</td>\n",
       "      <td>45</td>\n",
       "    </tr>\n",
       "    <tr>\n",
       "      <th>4</th>\n",
       "      <td>50-59</td>\n",
       "      <td>1238</td>\n",
       "      <td>13.4</td>\n",
       "      <td>456.6</td>\n",
       "      <td>19</td>\n",
       "      <td>10.3</td>\n",
       "      <td>7</td>\n",
       "      <td>1.534733</td>\n",
       "      <td>55</td>\n",
       "    </tr>\n",
       "  </tbody>\n",
       "</table>\n",
       "</div>"
      ],
      "text/plain": [
       "           age infect count percent_x infect_rates death count percent_y  \\\n",
       "0  19 or under         1265      13.7        257.9           0         0   \n",
       "1        20-29         1786      19.4        722.6           0         0   \n",
       "2        30-39         1710      18.6        626.9           4       2.2   \n",
       "3        40-49         1574      17.1        551.4           6       3.3   \n",
       "4        50-59         1238      13.4        456.6          19      10.3   \n",
       "\n",
       "  rates  death rate  age_x  \n",
       "0     0    0.000000     15  \n",
       "1     0    0.000000     25  \n",
       "2   1.5    0.233918     35  \n",
       "3   2.1    0.381194     45  \n",
       "4     7    1.534733     55  "
      ]
     },
     "execution_count": 113,
     "metadata": {},
     "output_type": "execute_result"
    }
   ],
   "source": [
    "#create x axis for display\n",
    "santa_clara_covin_age_death[\"age_x\"] = np.arange(15, 105, 10)\n",
    "x_values = santa_clara_covin_age_death[\"age_x\"].astype(int)\n",
    "y_values = santa_clara_covin_age_death[\"death rate\"].astype(float)\n",
    "(slope, intercept, rvalue, pvalue, stderr) = linregress(x_values, y_values)\n",
    "regress_values = x_values * slope + intercept\n",
    "line_eq = \"y = \" + str(round(slope,2)) + \"x + \" + str(round(intercept,2))\n",
    "plt.scatter(x_values,y_values)\n",
    "plt.plot(x_values,regress_values,\"r-\")\n",
    "plt.annotate(line_eq,(50,10),fontsize=15,color=\"red\")\n",
    "plt.xlabel('age')\n",
    "plt.ylabel('death rate')\n",
    "plt.title(f\"death rate vs. age Linear Regression\")\n",
    "print(f\"The r-squared is: {rvalue}\")\n",
    "print(\"The regression displays a positive correlation.\")\n",
    "plt.show()\n",
    "santa_clara_covin_age_death.head()"
   ]
  },
  {
   "cell_type": "markdown",
   "metadata": {},
   "source": [
    "## Age range vs. Infect count Plot "
   ]
  },
  {
   "cell_type": "code",
   "execution_count": 178,
   "metadata": {},
   "outputs": [
    {
     "name": "stdout",
     "output_type": "stream",
     "text": [
      "The r-squared is: -0.8883960983303485\n",
      "The regression displays a negative correlation.\n"
     ]
    },
    {
     "data": {
      "image/png": "[encoded data removed]",
      "text/plain": [
       "<Figure size 432x288 with 1 Axes>"
      ]
     },
     "metadata": {
      "needs_background": "light"
     },
     "output_type": "display_data"
    }
   ],
   "source": [
    "x_values = santa_clara_covin_age_death[\"age_x\"].astype(int)\n",
    "y_values = santa_clara_covin_age_death[\"infect count\"].astype(float)\n",
    "(slope, intercept, rvalue, pvalue, stderr) = linregress(x_values, y_values)\n",
    "regress_values = x_values * slope + intercept\n",
    "line_eq = \"y = \" + str(round(slope,2)) + \"x + \" + str(round(intercept,2))\n",
    "plt.scatter(x_values,y_values)\n",
    "plt.plot(x_values,regress_values,\"r-\")\n",
    "plt.annotate(line_eq,(50,1200),fontsize=15,color=\"red\")\n",
    "plt.xlabel('age')\n",
    "plt.ylabel('infect count')\n",
    "plt.title(f\"infect count vs. age Linear Regression\")\n",
    "print(f\"The r-squared is: {rvalue}\")\n",
    "print(\"The regression displays a negative correlation.\")\n",
    "plt.show()"
   ]
  },
  {
   "cell_type": "markdown",
   "metadata": {},
   "source": [
    "## Perform API Calls infection count by city\n",
    "* Check on infection count by API call.\n",
    "* Generate the santa_clara_covin_city dataframe\n",
    "* Insert population density column to dataframe"
   ]
  },
  {
   "cell_type": "code",
   "execution_count": 119,
   "metadata": {},
   "outputs": [
    {
     "data": {
      "text/html": [
       "<div>\n",
       "<style scoped>\n",
       "    .dataframe tbody tr th:only-of-type {\n",
       "        vertical-align: middle;\n",
       "    }\n",
       "\n",
       "    .dataframe tbody tr th {\n",
       "        vertical-align: top;\n",
       "    }\n",
       "\n",
       "    .dataframe thead th {\n",
       "        text-align: right;\n",
       "    }\n",
       "</style>\n",
       "<table border=\"1\" class=\"dataframe\">\n",
       "  <thead>\n",
       "    <tr style=\"text-align: right;\">\n",
       "      <th></th>\n",
       "      <th>geo_id</th>\n",
       "      <th>city</th>\n",
       "      <th>infect count</th>\n",
       "      <th>population density</th>\n",
       "    </tr>\n",
       "  </thead>\n",
       "  <tbody>\n",
       "    <tr>\n",
       "      <th>0</th>\n",
       "      <td>610345</td>\n",
       "      <td>Campbell</td>\n",
       "      <td>183</td>\n",
       "      <td>0.022094</td>\n",
       "    </tr>\n",
       "    <tr>\n",
       "      <th>1</th>\n",
       "      <td>617610</td>\n",
       "      <td>Cupertino</td>\n",
       "      <td>69</td>\n",
       "      <td>0.031534</td>\n",
       "    </tr>\n",
       "    <tr>\n",
       "      <th>2</th>\n",
       "      <td>629504</td>\n",
       "      <td>Gilroy</td>\n",
       "      <td>494</td>\n",
       "      <td>0.028886</td>\n",
       "    </tr>\n",
       "    <tr>\n",
       "      <th>3</th>\n",
       "      <td>643280</td>\n",
       "      <td>Los Altos</td>\n",
       "      <td>67</td>\n",
       "      <td>0.015913</td>\n",
       "    </tr>\n",
       "    <tr>\n",
       "      <th>4</th>\n",
       "      <td>643294</td>\n",
       "      <td>Los Altos Hills</td>\n",
       "      <td>17</td>\n",
       "      <td>0.004431</td>\n",
       "    </tr>\n",
       "  </tbody>\n",
       "</table>\n",
       "</div>"
      ],
      "text/plain": [
       "   geo_id             city infect count  population density\n",
       "0  610345         Campbell          183            0.022094\n",
       "1  617610        Cupertino           69            0.031534\n",
       "2  629504           Gilroy          494            0.028886\n",
       "3  643280        Los Altos           67            0.015913\n",
       "4  643294  Los Altos Hills           17            0.004431"
      ]
     },
     "execution_count": 119,
     "metadata": {},
     "output_type": "execute_result"
    }
   ],
   "source": [
    "#url\n",
    "url = \"https://data.sccgov.org/resource/59wk-iusg.json\"\n",
    "#api call\n",
    "response = requests.get(url).json() \n",
    "santa_clara_covin_city = pd.DataFrame(response)\n",
    "#clean data\n",
    "santa_clara_covin_city = santa_clara_covin_city.dropna()\n",
    "# rename \n",
    "santa_clara_covin_city = santa_clara_covin_city.rename(columns={\n",
    "                                        \"cases\": \"infect count\" #rename column\n",
    "                                        })\n",
    "# insert populcation density \n",
    "santa_clara_covin_city[\"population density\"] \\\n",
    "    = santa_clara_covin_city[\"population\"].astype(int)/ 1922200\n",
    "#remove unused columns \n",
    "del santa_clara_covin_city[\"population\"]\n",
    "del santa_clara_covin_city[\"rate\"]\n",
    "santa_clara_covin_city.head()"
   ]
  },
  {
   "cell_type": "markdown",
   "metadata": {},
   "source": [
    "### Call google api and get lat and lng \n",
    "* Use the Lat and Lng as locations "
   ]
  },
  {
   "cell_type": "code",
   "execution_count": 120,
   "metadata": {},
   "outputs": [
    {
     "data": {
      "text/html": [
       "<div>\n",
       "<style scoped>\n",
       "    .dataframe tbody tr th:only-of-type {\n",
       "        vertical-align: middle;\n",
       "    }\n",
       "\n",
       "    .dataframe tbody tr th {\n",
       "        vertical-align: top;\n",
       "    }\n",
       "\n",
       "    .dataframe thead th {\n",
       "        text-align: right;\n",
       "    }\n",
       "</style>\n",
       "<table border=\"1\" class=\"dataframe\">\n",
       "  <thead>\n",
       "    <tr style=\"text-align: right;\">\n",
       "      <th></th>\n",
       "      <th>geo_id</th>\n",
       "      <th>city</th>\n",
       "      <th>infect count</th>\n",
       "      <th>population density</th>\n",
       "      <th>Lat</th>\n",
       "      <th>Lng</th>\n",
       "    </tr>\n",
       "  </thead>\n",
       "  <tbody>\n",
       "    <tr>\n",
       "      <th>0</th>\n",
       "      <td>610345</td>\n",
       "      <td>Campbell</td>\n",
       "      <td>183</td>\n",
       "      <td>0.022094</td>\n",
       "      <td>37.287165</td>\n",
       "      <td>-121.949957</td>\n",
       "    </tr>\n",
       "    <tr>\n",
       "      <th>1</th>\n",
       "      <td>617610</td>\n",
       "      <td>Cupertino</td>\n",
       "      <td>69</td>\n",
       "      <td>0.031534</td>\n",
       "      <td>37.322998</td>\n",
       "      <td>-122.032182</td>\n",
       "    </tr>\n",
       "    <tr>\n",
       "      <th>2</th>\n",
       "      <td>629504</td>\n",
       "      <td>Gilroy</td>\n",
       "      <td>494</td>\n",
       "      <td>0.028886</td>\n",
       "      <td>37.002983</td>\n",
       "      <td>-121.556637</td>\n",
       "    </tr>\n",
       "    <tr>\n",
       "      <th>3</th>\n",
       "      <td>643280</td>\n",
       "      <td>Los Altos</td>\n",
       "      <td>67</td>\n",
       "      <td>0.015913</td>\n",
       "      <td>37.385218</td>\n",
       "      <td>-122.114130</td>\n",
       "    </tr>\n",
       "    <tr>\n",
       "      <th>4</th>\n",
       "      <td>643294</td>\n",
       "      <td>Los Altos Hills</td>\n",
       "      <td>17</td>\n",
       "      <td>0.004431</td>\n",
       "      <td>37.379663</td>\n",
       "      <td>-122.137464</td>\n",
       "    </tr>\n",
       "  </tbody>\n",
       "</table>\n",
       "</div>"
      ],
      "text/plain": [
       "   geo_id             city infect count  population density        Lat  \\\n",
       "0  610345         Campbell          183            0.022094  37.287165   \n",
       "1  617610        Cupertino           69            0.031534  37.322998   \n",
       "2  629504           Gilroy          494            0.028886  37.002983   \n",
       "3  643280        Los Altos           67            0.015913  37.385218   \n",
       "4  643294  Los Altos Hills           17            0.004431  37.379663   \n",
       "\n",
       "          Lng  \n",
       "0 -121.949957  \n",
       "1 -122.032182  \n",
       "2 -121.556637  \n",
       "3 -122.114130  \n",
       "4 -122.137464  "
      ]
     },
     "execution_count": 120,
     "metadata": {},
     "output_type": "execute_result"
    }
   ],
   "source": [
    "#creat 2 empty columns for lat and lng\n",
    "Lat = []\n",
    "Lng = []\n",
    "name = []\n",
    "#inital google api key\n",
    "params = {\n",
    "    \"key\": googlekey\n",
    "}\n",
    "#google url lat and lng\n",
    "target_url = 'https://maps.googleapis.com/maps/api/geocode/json?'\n",
    "\n",
    "#loop and find lat and lng\n",
    "for index, row in santa_clara_covin_city.iterrows():\n",
    "    params[\"address\"] = row[\"city\"] + \",ca\"\n",
    "    response = requests.get(target_url, params=params)\n",
    "    places_data = response.json()\n",
    "    Lat.append(places_data['results'][0]['geometry'][\"location\"][\"lat\"])\n",
    "    Lng.append(places_data['results'][0]['geometry'][\"location\"][\"lng\"])\n",
    "\n",
    "#insert two columns to city dataframe\n",
    "santa_clara_covin_city[\"Lat\"]=Lat\n",
    "santa_clara_covin_city[\"Lng\"]=Lng\n",
    "santa_clara_covin_city.head()"
   ]
  },
  {
   "cell_type": "markdown",
   "metadata": {},
   "source": [
    "### City pointer about covin 19\n",
    "* Configure gmaps.\n",
    "* Use the Lat and Lng as locations and count."
   ]
  },
  {
   "cell_type": "code",
   "execution_count": 121,
   "metadata": {},
   "outputs": [
    {
     "data": {
      "application/vnd.jupyter.widget-view+json": {
       "model_id": "be57825d2de340378d4e63b8c1aa43ed",
       "version_major": 2,
       "version_minor": 0
      },
      "text/plain": [
       "Figure(layout=FigureLayout(height='420px'))"
      ]
     },
     "metadata": {},
     "output_type": "display_data"
    }
   ],
   "source": [
    "info_box_template = \"\"\"\n",
    "<dl>\n",
    "<dt>City </dt><dd>{city}</dd>\n",
    "<dt>Confirm case</dt><dd>{infect count}</dd>\n",
    "</dl>\n",
    "\"\"\"\n",
    "census_info = [info_box_template.format(**row) for index, row in santa_clara_covin_city.iterrows()]\n",
    "locations = santa_clara_covin_city[['Lat', 'Lng']].astype(float)\n",
    "gmaps.configure(api_key=googlekey)\n",
    "fig = gmaps.figure()\n",
    "marker_layer = gmaps.marker_layer( locations,info_box_content = census_info)\n",
    "fig.add_layer(marker_layer)\n",
    "\n",
    "fig"
   ]
  },
  {
   "cell_type": "markdown",
   "metadata": {},
   "source": [
    "## population density vs. infect count Plot by city"
   ]
  },
  {
   "cell_type": "code",
   "execution_count": 191,
   "metadata": {},
   "outputs": [
    {
     "name": "stdout",
     "output_type": "stream",
     "text": [
      "The r-squared is: 0.9949366956194844\n",
      "The regression displays a positive correlation.\n"
     ]
    },
    {
     "data": {
      "image/png": "[encoded data removed]",
      "text/plain": [
       "<Figure size 432x288 with 1 Axes>"
      ]
     },
     "metadata": {
      "needs_background": "light"
     },
     "output_type": "display_data"
    }
   ],
   "source": [
    "x_values = santa_clara_covin_city[\"population density\"].astype(float)\n",
    "y_values = santa_clara_covin_city[\"infect count\"].astype(float)\n",
    "(slope, intercept, rvalue, pvalue, stderr) = linregress(x_values, y_values)\n",
    "regress_values = x_values * slope + intercept\n",
    "line_eq = \"y = \" + str(round(slope,2)) + \"x + \" + str(round(intercept,2))\n",
    "plt.scatter(x_values,y_values)\n",
    "plt.plot(x_values,regress_values,\"r-\")\n",
    "plt.annotate(line_eq,(0.1,0.1),fontsize=15,color=\"red\")\n",
    "plt.xlabel('population density')\n",
    "plt.ylabel('infect count')\n",
    "plt.title(f\"population density vs. infect count Linear Regression\")\n",
    "print(f\"The r-squared is: {rvalue}\")\n",
    "print(\"The regression displays a positive correlation.\")\n",
    "plt.show()"
   ]
  },
  {
   "cell_type": "markdown",
   "metadata": {},
   "source": [
    "## Search the infect count outlier in city list"
   ]
  },
  {
   "cell_type": "code",
   "execution_count": 122,
   "metadata": {},
   "outputs": [
    {
     "name": "stdout",
     "output_type": "stream",
     "text": [
      "lower quartile of infect count is: 68.0\n",
      "upper quartile of infect count is: 336.5\n",
      "interquartile range of infect count is: 268.5\n",
      "the median of infect count is: 183.0 \n",
      "There is one outlier greater than upper bound at 5970.0.\n",
      "-------------------------------------------------------------------\n"
     ]
    },
    {
     "data": {
      "image/png": "[encoded data removed]",
      "text/plain": [
       "<Figure size 432x288 with 1 Axes>"
      ]
     },
     "metadata": {
      "needs_background": "light"
     },
     "output_type": "display_data"
    }
   ],
   "source": [
    "display_list = [\"infect count\"]\n",
    "display_vol_list = []\n",
    "for display in display_list:\n",
    "    display_vol_list.append(santa_clara_covin_city[display].astype(float))\n",
    "    \n",
    "quartiles = santa_clara_covin_city[display].astype(float).quantile([.25,.5,.75])\n",
    "lowerq = quartiles[0.25]\n",
    "upperq = quartiles[0.75]\n",
    "iqr = round(upperq-lowerq,2)\n",
    "lower_bound = lowerq - (1.5*iqr)\n",
    "upper_bound = upperq + (1.5*iqr)\n",
    "    \n",
    "print(f\"lower quartile of infect count is: {round(lowerq,2)}\")\n",
    "print(f\"upper quartile of infect count is: {round(upperq,2)}\")\n",
    "print(f\"interquartile range of infect count is: {round(iqr,2)}\")\n",
    "print(f\"the median of infect count is: {round(quartiles[0.5],2)} \")\n",
    "    \n",
    "if (lower_bound > santa_clara_covin_city[display].astype(float).min()):\n",
    "    print(f\"There is at least 1 outlier lower than lower bound at {santa_clara_covin_city[display].astype(float).min()}.\")   \n",
    "elif (upper_bound < santa_clara_covin_city[display].astype(float).max()):\n",
    "    print(f\"There is one outlier greater than upper bound at {santa_clara_covin_city[display].astype(float).max()}.\")\n",
    "\n",
    "print(\"-------------------------------------------------------------------\")\n",
    "   \n",
    "fig1, ax1 = plt.subplots()\n",
    "ax1.set_ylabel('count')\n",
    "ax1.boxplot(display_vol_list)\n",
    "ax1.set_xticklabels(display_list)\n",
    "plt.show()"
   ]
  },
  {
   "cell_type": "markdown",
   "metadata": {},
   "source": [
    "## Population density vs. infect count Plot by city after removing outlier"
   ]
  },
  {
   "cell_type": "code",
   "execution_count": 193,
   "metadata": {},
   "outputs": [
    {
     "name": "stdout",
     "output_type": "stream",
     "text": [
      "The r-squared is: 0.7819330707587443\n",
      "The regression displays a positive correlation. after remove outlier\n"
     ]
    },
    {
     "data": {
      "image/png": "[encoded data removed]",
      "text/plain": [
       "<Figure size 432x288 with 1 Axes>"
      ]
     },
     "metadata": {
      "needs_background": "light"
     },
     "output_type": "display_data"
    }
   ],
   "source": [
    "x_values = santa_clara_covin_city[santa_clara_covin_city[\"city\"] \\\n",
    "                                  != \"San Jose\"][\"population density\"].astype(float)\n",
    "y_values = santa_clara_covin_city[santa_clara_covin_city[\"city\"] \\\n",
    "                                  != \"San Jose\"][\"infect count\"].astype(float)\n",
    "(slope, intercept, rvalue, pvalue, stderr) = linregress(x_values, y_values)\n",
    "regress_values = x_values * slope + intercept\n",
    "line_eq = \"y = \" + str(round(slope,2)) + \"x + \" + str(round(intercept,2))\n",
    "plt.scatter(x_values,y_values)\n",
    "plt.plot(x_values,regress_values,\"r-\")\n",
    "plt.annotate(line_eq,(0.04,300),fontsize=15,color=\"red\")\n",
    "plt.xlabel('population density')\n",
    "plt.ylabel('infect count')\n",
    "plt.title(f\"population density vs. infect count Linear Regression\")\n",
    "print(f\"The r-squared is: {rvalue}\")\n",
    "print(\"The regression displays a positive correlation. after remove outlier\")\n",
    "plt.show()\n"
   ]
  },
  {
   "cell_type": "markdown",
   "metadata": {},
   "source": [
    "## Perform API Calls infection count by zipcode\n",
    "* Check on infection count by API call.\n",
    "* Generate the santa_clara_covin_zipcode dataframe\n",
    "* Insert infect count and infect rate columns to dataframe"
   ]
  },
  {
   "cell_type": "code",
   "execution_count": 123,
   "metadata": {},
   "outputs": [
    {
     "data": {
      "text/html": [
       "<div>\n",
       "<style scoped>\n",
       "    .dataframe tbody tr th:only-of-type {\n",
       "        vertical-align: middle;\n",
       "    }\n",
       "\n",
       "    .dataframe tbody tr th {\n",
       "        vertical-align: top;\n",
       "    }\n",
       "\n",
       "    .dataframe thead th {\n",
       "        text-align: right;\n",
       "    }\n",
       "</style>\n",
       "<table border=\"1\" class=\"dataframe\">\n",
       "  <thead>\n",
       "    <tr style=\"text-align: right;\">\n",
       "      <th></th>\n",
       "      <th>zipcode</th>\n",
       "      <th>infect count</th>\n",
       "      <th>population</th>\n",
       "      <th>rate</th>\n",
       "      <th>infect rate</th>\n",
       "    </tr>\n",
       "  </thead>\n",
       "  <tbody>\n",
       "    <tr>\n",
       "      <th>0</th>\n",
       "      <td>94022</td>\n",
       "      <td>43</td>\n",
       "      <td>19378</td>\n",
       "      <td>222</td>\n",
       "      <td>0.221901</td>\n",
       "    </tr>\n",
       "    <tr>\n",
       "      <th>1</th>\n",
       "      <td>94024</td>\n",
       "      <td>41</td>\n",
       "      <td>23961</td>\n",
       "      <td>171</td>\n",
       "      <td>0.171111</td>\n",
       "    </tr>\n",
       "    <tr>\n",
       "      <th>2</th>\n",
       "      <td>94040</td>\n",
       "      <td>74</td>\n",
       "      <td>35845</td>\n",
       "      <td>206</td>\n",
       "      <td>0.206444</td>\n",
       "    </tr>\n",
       "    <tr>\n",
       "      <th>3</th>\n",
       "      <td>94041</td>\n",
       "      <td>49</td>\n",
       "      <td>14394</td>\n",
       "      <td>340</td>\n",
       "      <td>0.340420</td>\n",
       "    </tr>\n",
       "    <tr>\n",
       "      <th>4</th>\n",
       "      <td>94043</td>\n",
       "      <td>68</td>\n",
       "      <td>31488</td>\n",
       "      <td>216</td>\n",
       "      <td>0.215955</td>\n",
       "    </tr>\n",
       "  </tbody>\n",
       "</table>\n",
       "</div>"
      ],
      "text/plain": [
       "  zipcode infect count population rate  infect rate\n",
       "0   94022           43      19378  222     0.221901\n",
       "1   94024           41      23961  171     0.171111\n",
       "2   94040           74      35845  206     0.206444\n",
       "3   94041           49      14394  340     0.340420\n",
       "4   94043           68      31488  216     0.215955"
      ]
     },
     "execution_count": 123,
     "metadata": {},
     "output_type": "execute_result"
    }
   ],
   "source": [
    "#call url \n",
    "url = \"https://data.sccgov.org/resource/j2gj-bg6c.json\"\n",
    "response = requests.get(url).json() \n",
    "#create dataframe \n",
    "santa_clara_covin_zipcode = pd.DataFrame(response)\n",
    "\n",
    "#rename columns\n",
    "santa_clara_covin_zipcode = santa_clara_covin_zipcode.rename(\\\n",
    "                    columns={\"cases\": \"infect count\" #rename column\n",
    "                            })\n",
    "#Insert infect count and infect rate columns \n",
    "santa_clara_covin_zipcode['infect count'] = \\\n",
    "    santa_clara_covin_zipcode['infect count'].fillna(0)\n",
    "santa_clara_covin_zipcode['rate'] = \\\n",
    "    santa_clara_covin_zipcode['rate'].fillna(0)\n",
    "santa_clara_covin_zipcode[\"infect rate\"] =\\\n",
    "    100 * santa_clara_covin_zipcode[\"infect count\"].astype(int)/santa_clara_covin_zipcode[\"population\"].astype(int)\n",
    "santa_clara_covin_zipcode.head()"
   ]
  },
  {
   "cell_type": "markdown",
   "metadata": {},
   "source": [
    "### Call google api and get lat and lng by zipcode\n",
    "* Use the Lat and Lng as locations "
   ]
  },
  {
   "cell_type": "code",
   "execution_count": 124,
   "metadata": {},
   "outputs": [
    {
     "data": {
      "text/html": [
       "<div>\n",
       "<style scoped>\n",
       "    .dataframe tbody tr th:only-of-type {\n",
       "        vertical-align: middle;\n",
       "    }\n",
       "\n",
       "    .dataframe tbody tr th {\n",
       "        vertical-align: top;\n",
       "    }\n",
       "\n",
       "    .dataframe thead th {\n",
       "        text-align: right;\n",
       "    }\n",
       "</style>\n",
       "<table border=\"1\" class=\"dataframe\">\n",
       "  <thead>\n",
       "    <tr style=\"text-align: right;\">\n",
       "      <th></th>\n",
       "      <th>zipcode</th>\n",
       "      <th>infect count</th>\n",
       "      <th>population</th>\n",
       "      <th>rate</th>\n",
       "      <th>infect rate</th>\n",
       "      <th>Lat</th>\n",
       "      <th>Lng</th>\n",
       "    </tr>\n",
       "  </thead>\n",
       "  <tbody>\n",
       "    <tr>\n",
       "      <th>0</th>\n",
       "      <td>94022</td>\n",
       "      <td>43</td>\n",
       "      <td>19378</td>\n",
       "      <td>222</td>\n",
       "      <td>0.221901</td>\n",
       "      <td>37.369401</td>\n",
       "      <td>-122.140541</td>\n",
       "    </tr>\n",
       "    <tr>\n",
       "      <th>1</th>\n",
       "      <td>94024</td>\n",
       "      <td>41</td>\n",
       "      <td>23961</td>\n",
       "      <td>171</td>\n",
       "      <td>0.171111</td>\n",
       "      <td>37.347826</td>\n",
       "      <td>-122.100787</td>\n",
       "    </tr>\n",
       "    <tr>\n",
       "      <th>2</th>\n",
       "      <td>94040</td>\n",
       "      <td>74</td>\n",
       "      <td>35845</td>\n",
       "      <td>206</td>\n",
       "      <td>0.206444</td>\n",
       "      <td>37.378535</td>\n",
       "      <td>-122.086585</td>\n",
       "    </tr>\n",
       "    <tr>\n",
       "      <th>3</th>\n",
       "      <td>94041</td>\n",
       "      <td>49</td>\n",
       "      <td>14394</td>\n",
       "      <td>340</td>\n",
       "      <td>0.340420</td>\n",
       "      <td>37.386812</td>\n",
       "      <td>-122.075155</td>\n",
       "    </tr>\n",
       "    <tr>\n",
       "      <th>4</th>\n",
       "      <td>94043</td>\n",
       "      <td>68</td>\n",
       "      <td>31488</td>\n",
       "      <td>216</td>\n",
       "      <td>0.215955</td>\n",
       "      <td>37.406224</td>\n",
       "      <td>-122.078166</td>\n",
       "    </tr>\n",
       "  </tbody>\n",
       "</table>\n",
       "</div>"
      ],
      "text/plain": [
       "  zipcode infect count population rate  infect rate        Lat         Lng\n",
       "0   94022           43      19378  222     0.221901  37.369401 -122.140541\n",
       "1   94024           41      23961  171     0.171111  37.347826 -122.100787\n",
       "2   94040           74      35845  206     0.206444  37.378535 -122.086585\n",
       "3   94041           49      14394  340     0.340420  37.386812 -122.075155\n",
       "4   94043           68      31488  216     0.215955  37.406224 -122.078166"
      ]
     },
     "execution_count": 124,
     "metadata": {},
     "output_type": "execute_result"
    }
   ],
   "source": [
    "Lat = []\n",
    "Lng = []\n",
    "name = []\n",
    "params = {\n",
    "    \"key\": googlekey\n",
    "}\n",
    "target_url = 'https://maps.googleapis.com/maps/api/geocode/json?'\n",
    "\n",
    "for index, row in santa_clara_covin_zipcode.iterrows():\n",
    "    params[\"address\"] = row[\"zipcode\"]\n",
    "    response = requests.get(target_url, params=params)\n",
    "    places_data = response.json()\n",
    "    name.append(places_data['results'][0]['formatted_address'].split(',')[0])\n",
    "    Lat.append(places_data['results'][0]['geometry'][\"location\"][\"lat\"])\n",
    "    Lng.append(places_data['results'][0]['geometry'][\"location\"][\"lng\"])\n",
    "\n",
    "santa_clara_covin_zipcode[\"Lat\"]=Lat\n",
    "santa_clara_covin_zipcode[\"Lng\"]=Lng\n",
    "santa_clara_covin_zipcode.head()"
   ]
  },
  {
   "cell_type": "markdown",
   "metadata": {},
   "source": [
    "### Infect count Heatmap\n",
    "* Configure gmaps.\n",
    "* Use the Lat and Lng as locations and infect count as the weight.\n",
    "* Add Heatmap layer to map."
   ]
  },
  {
   "cell_type": "code",
   "execution_count": 125,
   "metadata": {},
   "outputs": [
    {
     "data": {
      "application/vnd.jupyter.widget-view+json": {
       "model_id": "78986a3b96b143c8bac0114ca3be2655",
       "version_major": 2,
       "version_minor": 0
      },
      "text/plain": [
       "Figure(layout=FigureLayout(height='420px'))"
      ]
     },
     "metadata": {},
     "output_type": "display_data"
    }
   ],
   "source": [
    "gmaps.configure(api_key=googlekey)\n",
    "fig = gmaps.figure()\n",
    "# get lat and Lng from zipcode dataframe\n",
    "locations = santa_clara_covin_zipcode[['Lat', 'Lng']].astype(float)\n",
    "# infect count as the weight.\n",
    "confirm = santa_clara_covin_zipcode[\"infect count\"].astype(int)\n",
    "\n",
    "fig = gmaps.figure(center=(37.331583,-121.770834), zoom_level=9)\n",
    "\n",
    "gmap_layer = gmaps.heatmap_layer(\n",
    "                                locations, \n",
    "                                weights = confirm,\n",
    "                                dissipating=False,\n",
    "                                max_intensity=620,\n",
    "                                point_radius = 0.05)\n",
    "fig.add_layer(gmap_layer)\n",
    "\n",
    "fig"
   ]
  },
  {
   "cell_type": "markdown",
   "metadata": {},
   "source": [
    "### Insert population density by zip code "
   ]
  },
  {
   "cell_type": "code",
   "execution_count": 126,
   "metadata": {},
   "outputs": [
    {
     "data": {
      "text/html": [
       "<div>\n",
       "<style scoped>\n",
       "    .dataframe tbody tr th:only-of-type {\n",
       "        vertical-align: middle;\n",
       "    }\n",
       "\n",
       "    .dataframe tbody tr th {\n",
       "        vertical-align: top;\n",
       "    }\n",
       "\n",
       "    .dataframe thead th {\n",
       "        text-align: right;\n",
       "    }\n",
       "</style>\n",
       "<table border=\"1\" class=\"dataframe\">\n",
       "  <thead>\n",
       "    <tr style=\"text-align: right;\">\n",
       "      <th></th>\n",
       "      <th>zipcode</th>\n",
       "      <th>infect count</th>\n",
       "      <th>population</th>\n",
       "      <th>rate</th>\n",
       "      <th>infect rate</th>\n",
       "      <th>Lat</th>\n",
       "      <th>Lng</th>\n",
       "      <th>population density</th>\n",
       "    </tr>\n",
       "  </thead>\n",
       "  <tbody>\n",
       "    <tr>\n",
       "      <th>0</th>\n",
       "      <td>94022</td>\n",
       "      <td>43</td>\n",
       "      <td>19378</td>\n",
       "      <td>222</td>\n",
       "      <td>0.221901</td>\n",
       "      <td>37.369401</td>\n",
       "      <td>-122.140541</td>\n",
       "      <td>0.010081</td>\n",
       "    </tr>\n",
       "    <tr>\n",
       "      <th>1</th>\n",
       "      <td>94024</td>\n",
       "      <td>41</td>\n",
       "      <td>23961</td>\n",
       "      <td>171</td>\n",
       "      <td>0.171111</td>\n",
       "      <td>37.347826</td>\n",
       "      <td>-122.100787</td>\n",
       "      <td>0.012465</td>\n",
       "    </tr>\n",
       "    <tr>\n",
       "      <th>2</th>\n",
       "      <td>94040</td>\n",
       "      <td>74</td>\n",
       "      <td>35845</td>\n",
       "      <td>206</td>\n",
       "      <td>0.206444</td>\n",
       "      <td>37.378535</td>\n",
       "      <td>-122.086585</td>\n",
       "      <td>0.018648</td>\n",
       "    </tr>\n",
       "    <tr>\n",
       "      <th>3</th>\n",
       "      <td>94041</td>\n",
       "      <td>49</td>\n",
       "      <td>14394</td>\n",
       "      <td>340</td>\n",
       "      <td>0.340420</td>\n",
       "      <td>37.386812</td>\n",
       "      <td>-122.075155</td>\n",
       "      <td>0.007488</td>\n",
       "    </tr>\n",
       "    <tr>\n",
       "      <th>4</th>\n",
       "      <td>94043</td>\n",
       "      <td>68</td>\n",
       "      <td>31488</td>\n",
       "      <td>216</td>\n",
       "      <td>0.215955</td>\n",
       "      <td>37.406224</td>\n",
       "      <td>-122.078166</td>\n",
       "      <td>0.016381</td>\n",
       "    </tr>\n",
       "  </tbody>\n",
       "</table>\n",
       "</div>"
      ],
      "text/plain": [
       "  zipcode infect count population rate  infect rate        Lat         Lng  \\\n",
       "0   94022           43      19378  222     0.221901  37.369401 -122.140541   \n",
       "1   94024           41      23961  171     0.171111  37.347826 -122.100787   \n",
       "2   94040           74      35845  206     0.206444  37.378535 -122.086585   \n",
       "3   94041           49      14394  340     0.340420  37.386812 -122.075155   \n",
       "4   94043           68      31488  216     0.215955  37.406224 -122.078166   \n",
       "\n",
       "   population density  \n",
       "0            0.010081  \n",
       "1            0.012465  \n",
       "2            0.018648  \n",
       "3            0.007488  \n",
       "4            0.016381  "
      ]
     },
     "execution_count": 126,
     "metadata": {},
     "output_type": "execute_result"
    }
   ],
   "source": [
    "santa_clara_covin_zipcode[\"population density\"] = santa_clara_covin_zipcode[\"population\"].astype(int)/ 1922200\n",
    "santa_clara_covin_zipcode.head()"
   ]
  },
  {
   "cell_type": "markdown",
   "metadata": {},
   "source": [
    "## Population density vs. infect count Plot by zipcode"
   ]
  },
  {
   "cell_type": "code",
   "execution_count": 12,
   "metadata": {},
   "outputs": [
    {
     "name": "stdout",
     "output_type": "stream",
     "text": [
      "The r-squared is: 0.7250551588389511\n",
      "The regression displays a positive correlation.\n"
     ]
    },
    {
     "data": {
      "image/png": "[encoded data removed]",
      "text/plain": [
       "<Figure size 432x288 with 1 Axes>"
      ]
     },
     "metadata": {
      "needs_background": "light"
     },
     "output_type": "display_data"
    }
   ],
   "source": [
    "x_values = santa_clara_covin_zipcode[\"population density\"].astype(float)\n",
    "y_values = santa_clara_covin_zipcode[\"infect count\"].astype(float)\n",
    "(slope, intercept, rvalue, pvalue, stderr) = linregress(x_values, y_values)\n",
    "regress_values = x_values * slope + intercept\n",
    "line_eq = \"y = \" + str(round(slope,2)) + \"x + \" + str(round(intercept,2))\n",
    "plt.scatter(x_values,y_values)\n",
    "plt.plot(x_values,regress_values,\"r-\")\n",
    "plt.annotate(line_eq,(0.01,400),fontsize=15,color=\"red\")\n",
    "plt.xlabel('population density')\n",
    "plt.ylabel('infect count')\n",
    "plt.title(f\"population density vs. infect count Linear Regression\")\n",
    "print(f\"The r-squared is: {rvalue}\")\n",
    "print(\"The regression displays a positive correlation.\")\n",
    "plt.show()"
   ]
  },
  {
   "cell_type": "markdown",
   "metadata": {},
   "source": [
    "## Population density vs. infect rate Plot by zipcode"
   ]
  },
  {
   "cell_type": "code",
   "execution_count": 13,
   "metadata": {},
   "outputs": [
    {
     "name": "stdout",
     "output_type": "stream",
     "text": [
      "The r-squared is: 0.1776012521947716\n",
      "The regression displays a positive correlation.\n"
     ]
    },
    {
     "data": {
      "image/png": "[encoded data removed]",
      "text/plain": [
       "<Figure size 432x288 with 1 Axes>"
      ]
     },
     "metadata": {
      "needs_background": "light"
     },
     "output_type": "display_data"
    }
   ],
   "source": [
    "x_values = santa_clara_covin_zipcode[\"population density\"].astype(float)\n",
    "y_values = santa_clara_covin_zipcode[\"infect rate\"].astype(float)\n",
    "(slope, intercept, rvalue, pvalue, stderr) = linregress(x_values, y_values)\n",
    "regress_values = x_values * slope + intercept\n",
    "line_eq = \"y = \" + str(round(slope,2)) + \"x + \" + str(round(intercept,2))\n",
    "plt.scatter(x_values,y_values)\n",
    "plt.plot(x_values,regress_values,\"r-\")\n",
    "plt.annotate(line_eq,(0.01,0.01),fontsize=15,color=\"red\")\n",
    "plt.xlabel('population density')\n",
    "plt.ylabel('infect rate')\n",
    "plt.title(f\"population density vs. infect rate Linear Regression\")\n",
    "print(f\"The r-squared is: {rvalue}\")\n",
    "print(\"The regression displays a positive correlation.\")\n",
    "plt.show()"
   ]
  },
  {
   "cell_type": "markdown",
   "metadata": {},
   "source": [
    "## Calls census api for zipcode \n",
    "* Perform census API Calls for population, Median Age, Household Income, Per Capita Income and Poverty Count\n",
    "* Rename columns."
   ]
  },
  {
   "cell_type": "code",
   "execution_count": 127,
   "metadata": {},
   "outputs": [],
   "source": [
    "#call census api by zipcode \n",
    "santa_clara_census_zip = c.acs5.get((\"B19013_001E\", \n",
    "                                     \"B01003_001E\", \n",
    "                                     \"B01002_001E\",\n",
    "                                     \"B19301_001E\",\n",
    "                                     \"B17001_002E\",\n",
    "                                     \"B23025_004E\",\n",
    "                                     \"B23025_002E\",\n",
    "                                     \"B23025_005E\"),\n",
    "                                    {'for': 'zip code tabulation area:*'})\n",
    "#create dataframe \n",
    "santa_clara_census_zip = pd.DataFrame(santa_clara_census_zip)\n",
    "#rename \n",
    "santa_clara_census_zip = santa_clara_census_zip.rename(columns={\n",
    "                                      \"B01003_001E\": \"Population\",\n",
    "                                      \"B01002_001E\": \"Median Age\",\n",
    "                                      \"B19013_001E\": \"Household Income\",\n",
    "                                      \"B19301_001E\": \"Per Capita Income\",\n",
    "                                      \"B17001_002E\": \"Poverty Count\",\n",
    "                                      \"B23025_004E\": \"employment_employed\",\n",
    "                                      \"B23025_002E\": \"Labor_force\",\n",
    "                                      \"B23025_005E\": \"employment_unemployed\",\n",
    "                                    \"zip code tabulation area\": \"zipcode\"})"
   ]
  },
  {
   "cell_type": "markdown",
   "metadata": {},
   "source": [
    "## Merge census dataframe and  zipcode dataframe\n",
    "* Perform census API Calls for population, Median Age, Household Income, Per Capita Income and Poverty Count\n",
    "* Rename columns."
   ]
  },
  {
   "cell_type": "code",
   "execution_count": 128,
   "metadata": {},
   "outputs": [
    {
     "data": {
      "text/html": [
       "<div>\n",
       "<style scoped>\n",
       "    .dataframe tbody tr th:only-of-type {\n",
       "        vertical-align: middle;\n",
       "    }\n",
       "\n",
       "    .dataframe tbody tr th {\n",
       "        vertical-align: top;\n",
       "    }\n",
       "\n",
       "    .dataframe thead th {\n",
       "        text-align: right;\n",
       "    }\n",
       "</style>\n",
       "<table border=\"1\" class=\"dataframe\">\n",
       "  <thead>\n",
       "    <tr style=\"text-align: right;\">\n",
       "      <th></th>\n",
       "      <th>zipcode</th>\n",
       "      <th>infect count</th>\n",
       "      <th>population</th>\n",
       "      <th>rate</th>\n",
       "      <th>infect rate</th>\n",
       "      <th>Lat</th>\n",
       "      <th>Lng</th>\n",
       "      <th>population density</th>\n",
       "      <th>Household Income</th>\n",
       "      <th>Population</th>\n",
       "      <th>Median Age</th>\n",
       "      <th>Per Capita Income</th>\n",
       "      <th>Poverty Count</th>\n",
       "      <th>employment_employed</th>\n",
       "      <th>Labor_force</th>\n",
       "      <th>employment_unemployed</th>\n",
       "    </tr>\n",
       "  </thead>\n",
       "  <tbody>\n",
       "    <tr>\n",
       "      <th>0</th>\n",
       "      <td>94022</td>\n",
       "      <td>43</td>\n",
       "      <td>19378</td>\n",
       "      <td>222</td>\n",
       "      <td>0.221901</td>\n",
       "      <td>37.369401</td>\n",
       "      <td>-122.140541</td>\n",
       "      <td>0.010081</td>\n",
       "      <td>216042.0</td>\n",
       "      <td>19378.0</td>\n",
       "      <td>48.1</td>\n",
       "      <td>122105.0</td>\n",
       "      <td>833.0</td>\n",
       "      <td>8111.0</td>\n",
       "      <td>8370.0</td>\n",
       "      <td>259.0</td>\n",
       "    </tr>\n",
       "    <tr>\n",
       "      <th>1</th>\n",
       "      <td>94024</td>\n",
       "      <td>41</td>\n",
       "      <td>23961</td>\n",
       "      <td>171</td>\n",
       "      <td>0.171111</td>\n",
       "      <td>37.347826</td>\n",
       "      <td>-122.100787</td>\n",
       "      <td>0.012465</td>\n",
       "      <td>237454.0</td>\n",
       "      <td>23961.0</td>\n",
       "      <td>46.2</td>\n",
       "      <td>106527.0</td>\n",
       "      <td>679.0</td>\n",
       "      <td>10643.0</td>\n",
       "      <td>11085.0</td>\n",
       "      <td>425.0</td>\n",
       "    </tr>\n",
       "    <tr>\n",
       "      <th>2</th>\n",
       "      <td>94040</td>\n",
       "      <td>74</td>\n",
       "      <td>35845</td>\n",
       "      <td>206</td>\n",
       "      <td>0.206444</td>\n",
       "      <td>37.378535</td>\n",
       "      <td>-122.086585</td>\n",
       "      <td>0.018648</td>\n",
       "      <td>129188.0</td>\n",
       "      <td>35845.0</td>\n",
       "      <td>35.1</td>\n",
       "      <td>73521.0</td>\n",
       "      <td>2681.0</td>\n",
       "      <td>19591.0</td>\n",
       "      <td>20335.0</td>\n",
       "      <td>744.0</td>\n",
       "    </tr>\n",
       "    <tr>\n",
       "      <th>3</th>\n",
       "      <td>94041</td>\n",
       "      <td>49</td>\n",
       "      <td>14394</td>\n",
       "      <td>340</td>\n",
       "      <td>0.340420</td>\n",
       "      <td>37.386812</td>\n",
       "      <td>-122.075155</td>\n",
       "      <td>0.007488</td>\n",
       "      <td>129444.0</td>\n",
       "      <td>14394.0</td>\n",
       "      <td>34.3</td>\n",
       "      <td>75692.0</td>\n",
       "      <td>946.0</td>\n",
       "      <td>9033.0</td>\n",
       "      <td>9410.0</td>\n",
       "      <td>377.0</td>\n",
       "    </tr>\n",
       "    <tr>\n",
       "      <th>4</th>\n",
       "      <td>94043</td>\n",
       "      <td>68</td>\n",
       "      <td>31488</td>\n",
       "      <td>216</td>\n",
       "      <td>0.215955</td>\n",
       "      <td>37.406224</td>\n",
       "      <td>-122.078166</td>\n",
       "      <td>0.016381</td>\n",
       "      <td>125916.0</td>\n",
       "      <td>31488.0</td>\n",
       "      <td>34.7</td>\n",
       "      <td>71492.0</td>\n",
       "      <td>2046.0</td>\n",
       "      <td>18620.0</td>\n",
       "      <td>19404.0</td>\n",
       "      <td>623.0</td>\n",
       "    </tr>\n",
       "  </tbody>\n",
       "</table>\n",
       "</div>"
      ],
      "text/plain": [
       "  zipcode infect count population rate  infect rate        Lat         Lng  \\\n",
       "0   94022           43      19378  222     0.221901  37.369401 -122.140541   \n",
       "1   94024           41      23961  171     0.171111  37.347826 -122.100787   \n",
       "2   94040           74      35845  206     0.206444  37.378535 -122.086585   \n",
       "3   94041           49      14394  340     0.340420  37.386812 -122.075155   \n",
       "4   94043           68      31488  216     0.215955  37.406224 -122.078166   \n",
       "\n",
       "   population density  Household Income  Population  Median Age  \\\n",
       "0            0.010081          216042.0     19378.0        48.1   \n",
       "1            0.012465          237454.0     23961.0        46.2   \n",
       "2            0.018648          129188.0     35845.0        35.1   \n",
       "3            0.007488          129444.0     14394.0        34.3   \n",
       "4            0.016381          125916.0     31488.0        34.7   \n",
       "\n",
       "   Per Capita Income  Poverty Count  employment_employed  Labor_force  \\\n",
       "0           122105.0          833.0               8111.0       8370.0   \n",
       "1           106527.0          679.0              10643.0      11085.0   \n",
       "2            73521.0         2681.0              19591.0      20335.0   \n",
       "3            75692.0          946.0               9033.0       9410.0   \n",
       "4            71492.0         2046.0              18620.0      19404.0   \n",
       "\n",
       "   employment_unemployed  \n",
       "0                  259.0  \n",
       "1                  425.0  \n",
       "2                  744.0  \n",
       "3                  377.0  \n",
       "4                  623.0  "
      ]
     },
     "execution_count": 128,
     "metadata": {},
     "output_type": "execute_result"
    }
   ],
   "source": [
    "santa_clara_covin_zipcode_final = \\\n",
    "    pd.merge(santa_clara_covin_zipcode, santa_clara_census_zip, \n",
    "             how=\"left\", \n",
    "             on = [\"zipcode\",\"zipcode\"])\n",
    "santa_clara_covin_zipcode_final.head()"
   ]
  },
  {
   "cell_type": "markdown",
   "metadata": {},
   "source": [
    "## Create Poverty Rate, Employment Rate and Unemployment Rate"
   ]
  },
  {
   "cell_type": "code",
   "execution_count": 129,
   "metadata": {},
   "outputs": [
    {
     "data": {
      "text/html": [
       "<div>\n",
       "<style scoped>\n",
       "    .dataframe tbody tr th:only-of-type {\n",
       "        vertical-align: middle;\n",
       "    }\n",
       "\n",
       "    .dataframe tbody tr th {\n",
       "        vertical-align: top;\n",
       "    }\n",
       "\n",
       "    .dataframe thead th {\n",
       "        text-align: right;\n",
       "    }\n",
       "</style>\n",
       "<table border=\"1\" class=\"dataframe\">\n",
       "  <thead>\n",
       "    <tr style=\"text-align: right;\">\n",
       "      <th></th>\n",
       "      <th>zipcode</th>\n",
       "      <th>infect count</th>\n",
       "      <th>population</th>\n",
       "      <th>rate</th>\n",
       "      <th>infect rate</th>\n",
       "      <th>Lat</th>\n",
       "      <th>Lng</th>\n",
       "      <th>population density</th>\n",
       "      <th>Household Income</th>\n",
       "      <th>Population</th>\n",
       "      <th>Median Age</th>\n",
       "      <th>Per Capita Income</th>\n",
       "      <th>Poverty Count</th>\n",
       "      <th>employment_employed</th>\n",
       "      <th>Labor_force</th>\n",
       "      <th>employment_unemployed</th>\n",
       "      <th>Poverty Rate</th>\n",
       "      <th>Employment Rate</th>\n",
       "      <th>Unemployment Rate</th>\n",
       "    </tr>\n",
       "  </thead>\n",
       "  <tbody>\n",
       "    <tr>\n",
       "      <th>0</th>\n",
       "      <td>94022</td>\n",
       "      <td>43</td>\n",
       "      <td>19378</td>\n",
       "      <td>222</td>\n",
       "      <td>0.221901</td>\n",
       "      <td>37.369401</td>\n",
       "      <td>-122.140541</td>\n",
       "      <td>0.010081</td>\n",
       "      <td>216042.0</td>\n",
       "      <td>19378.0</td>\n",
       "      <td>48.1</td>\n",
       "      <td>122105.0</td>\n",
       "      <td>833.0</td>\n",
       "      <td>8111.0</td>\n",
       "      <td>8370.0</td>\n",
       "      <td>259.0</td>\n",
       "      <td>4.298689</td>\n",
       "      <td>96.905615</td>\n",
       "      <td>3.094385</td>\n",
       "    </tr>\n",
       "    <tr>\n",
       "      <th>1</th>\n",
       "      <td>94024</td>\n",
       "      <td>41</td>\n",
       "      <td>23961</td>\n",
       "      <td>171</td>\n",
       "      <td>0.171111</td>\n",
       "      <td>37.347826</td>\n",
       "      <td>-122.100787</td>\n",
       "      <td>0.012465</td>\n",
       "      <td>237454.0</td>\n",
       "      <td>23961.0</td>\n",
       "      <td>46.2</td>\n",
       "      <td>106527.0</td>\n",
       "      <td>679.0</td>\n",
       "      <td>10643.0</td>\n",
       "      <td>11085.0</td>\n",
       "      <td>425.0</td>\n",
       "      <td>2.833772</td>\n",
       "      <td>96.012630</td>\n",
       "      <td>3.834010</td>\n",
       "    </tr>\n",
       "    <tr>\n",
       "      <th>2</th>\n",
       "      <td>94040</td>\n",
       "      <td>74</td>\n",
       "      <td>35845</td>\n",
       "      <td>206</td>\n",
       "      <td>0.206444</td>\n",
       "      <td>37.378535</td>\n",
       "      <td>-122.086585</td>\n",
       "      <td>0.018648</td>\n",
       "      <td>129188.0</td>\n",
       "      <td>35845.0</td>\n",
       "      <td>35.1</td>\n",
       "      <td>73521.0</td>\n",
       "      <td>2681.0</td>\n",
       "      <td>19591.0</td>\n",
       "      <td>20335.0</td>\n",
       "      <td>744.0</td>\n",
       "      <td>7.479425</td>\n",
       "      <td>96.341284</td>\n",
       "      <td>3.658716</td>\n",
       "    </tr>\n",
       "    <tr>\n",
       "      <th>3</th>\n",
       "      <td>94041</td>\n",
       "      <td>49</td>\n",
       "      <td>14394</td>\n",
       "      <td>340</td>\n",
       "      <td>0.340420</td>\n",
       "      <td>37.386812</td>\n",
       "      <td>-122.075155</td>\n",
       "      <td>0.007488</td>\n",
       "      <td>129444.0</td>\n",
       "      <td>14394.0</td>\n",
       "      <td>34.3</td>\n",
       "      <td>75692.0</td>\n",
       "      <td>946.0</td>\n",
       "      <td>9033.0</td>\n",
       "      <td>9410.0</td>\n",
       "      <td>377.0</td>\n",
       "      <td>6.572183</td>\n",
       "      <td>95.993624</td>\n",
       "      <td>4.006376</td>\n",
       "    </tr>\n",
       "    <tr>\n",
       "      <th>4</th>\n",
       "      <td>94043</td>\n",
       "      <td>68</td>\n",
       "      <td>31488</td>\n",
       "      <td>216</td>\n",
       "      <td>0.215955</td>\n",
       "      <td>37.406224</td>\n",
       "      <td>-122.078166</td>\n",
       "      <td>0.016381</td>\n",
       "      <td>125916.0</td>\n",
       "      <td>31488.0</td>\n",
       "      <td>34.7</td>\n",
       "      <td>71492.0</td>\n",
       "      <td>2046.0</td>\n",
       "      <td>18620.0</td>\n",
       "      <td>19404.0</td>\n",
       "      <td>623.0</td>\n",
       "      <td>6.497713</td>\n",
       "      <td>95.959596</td>\n",
       "      <td>3.210678</td>\n",
       "    </tr>\n",
       "  </tbody>\n",
       "</table>\n",
       "</div>"
      ],
      "text/plain": [
       "  zipcode infect count population rate  infect rate        Lat         Lng  \\\n",
       "0   94022           43      19378  222     0.221901  37.369401 -122.140541   \n",
       "1   94024           41      23961  171     0.171111  37.347826 -122.100787   \n",
       "2   94040           74      35845  206     0.206444  37.378535 -122.086585   \n",
       "3   94041           49      14394  340     0.340420  37.386812 -122.075155   \n",
       "4   94043           68      31488  216     0.215955  37.406224 -122.078166   \n",
       "\n",
       "   population density  Household Income  Population  Median Age  \\\n",
       "0            0.010081          216042.0     19378.0        48.1   \n",
       "1            0.012465          237454.0     23961.0        46.2   \n",
       "2            0.018648          129188.0     35845.0        35.1   \n",
       "3            0.007488          129444.0     14394.0        34.3   \n",
       "4            0.016381          125916.0     31488.0        34.7   \n",
       "\n",
       "   Per Capita Income  Poverty Count  employment_employed  Labor_force  \\\n",
       "0           122105.0          833.0               8111.0       8370.0   \n",
       "1           106527.0          679.0              10643.0      11085.0   \n",
       "2            73521.0         2681.0              19591.0      20335.0   \n",
       "3            75692.0          946.0               9033.0       9410.0   \n",
       "4            71492.0         2046.0              18620.0      19404.0   \n",
       "\n",
       "   employment_unemployed  Poverty Rate  Employment Rate  Unemployment Rate  \n",
       "0                  259.0      4.298689        96.905615           3.094385  \n",
       "1                  425.0      2.833772        96.012630           3.834010  \n",
       "2                  744.0      7.479425        96.341284           3.658716  \n",
       "3                  377.0      6.572183        95.993624           4.006376  \n",
       "4                  623.0      6.497713        95.959596           3.210678  "
      ]
     },
     "execution_count": 129,
     "metadata": {},
     "output_type": "execute_result"
    }
   ],
   "source": [
    "santa_clara_covin_zipcode_final[\"Poverty Rate\"] = 100 * \\\n",
    "    santa_clara_covin_zipcode_final[\"Poverty Count\"].astype(\n",
    "        int) / santa_clara_covin_zipcode_final[\"Population\"].astype(int)\n",
    "\n",
    "# Add in Poverty Rate (Poverty Count / Population)\n",
    "santa_clara_covin_zipcode_final[\"Employment Rate\"] = 100 * \\\n",
    "    santa_clara_covin_zipcode_final[\"employment_employed\"].astype(\n",
    "        int) / santa_clara_covin_zipcode_final[\"Labor_force\"].astype(int)\n",
    "    \n",
    "# Add in Poverty Rate (Poverty Count / Population)\n",
    "santa_clara_covin_zipcode_final[\"Unemployment Rate\"] = 100 * \\\n",
    "    santa_clara_covin_zipcode_final[\"employment_unemployed\"].astype(\n",
    "        int) / santa_clara_covin_zipcode_final[\"Labor_force\"].astype(int)\n",
    "santa_clara_covin_zipcode_final.head()"
   ]
  },
  {
   "cell_type": "markdown",
   "metadata": {},
   "source": [
    "## Per Capita Income vs. infect count Plot by zipcode"
   ]
  },
  {
   "cell_type": "code",
   "execution_count": 130,
   "metadata": {},
   "outputs": [
    {
     "name": "stdout",
     "output_type": "stream",
     "text": [
      "The r-squared is: -0.48687672277244826\n",
      "The regression displays a negative correlation.\n"
     ]
    },
    {
     "data": {
      "image/png": "[encoded data removed]",
      "text/plain": [
       "<Figure size 432x288 with 1 Axes>"
      ]
     },
     "metadata": {
      "needs_background": "light"
     },
     "output_type": "display_data"
    }
   ],
   "source": [
    "x_values = santa_clara_covin_zipcode_final[\"Per Capita Income\"].astype(float)\n",
    "y_values = santa_clara_covin_zipcode_final[\"infect count\"].astype(float)\n",
    "(slope, intercept, rvalue, pvalue, stderr) = linregress(x_values, y_values)\n",
    "regress_values = x_values * slope + intercept\n",
    "line_eq = \"y = \" + str(round(slope,2)) + \"x + \" + str(round(intercept,2))\n",
    "plt.scatter(x_values,y_values)\n",
    "plt.plot(x_values,regress_values,\"r-\")\n",
    "plt.annotate(line_eq,(25,300),fontsize=15,color=\"red\")\n",
    "plt.xlabel('Per Capita Income')\n",
    "plt.ylabel('infect count')\n",
    "plt.title(f\"infect count vs. Per Capita Income Linear Regression\")\n",
    "print(f\"The r-squared is: {rvalue}\")\n",
    "print(\"The regression displays a negative correlation.\")\n",
    "plt.show()"
   ]
  },
  {
   "cell_type": "markdown",
   "metadata": {},
   "source": [
    "## Median Age vs. infect count Plot by zipcode"
   ]
  },
  {
   "cell_type": "code",
   "execution_count": 131,
   "metadata": {},
   "outputs": [
    {
     "name": "stdout",
     "output_type": "stream",
     "text": [
      "The r-squared is: -0.2620454553919513\n",
      "The regression displays a negative correlation.\n"
     ]
    },
    {
     "data": {
      "image/png": "[encoded data removed]",
      "text/plain": [
       "<Figure size 432x288 with 1 Axes>"
      ]
     },
     "metadata": {
      "needs_background": "light"
     },
     "output_type": "display_data"
    }
   ],
   "source": [
    "x_values = santa_clara_covin_zipcode_final[\"Median Age\"].astype(float)\n",
    "y_values = santa_clara_covin_zipcode_final[\"infect count\"].astype(float)\n",
    "(slope, intercept, rvalue, pvalue, stderr) = linregress(x_values, y_values)\n",
    "regress_values = x_values * slope + intercept\n",
    "line_eq = \"y = \" + str(round(slope,2)) + \"x + \" + str(round(intercept,2))\n",
    "plt.scatter(x_values,y_values)\n",
    "plt.plot(x_values,regress_values,\"r-\")\n",
    "plt.annotate(line_eq,(25,300),fontsize=15,color=\"red\")\n",
    "plt.xlabel('Median Age')\n",
    "plt.ylabel('infect count')\n",
    "plt.title(f\"infect count vs. Median Age Linear Regression\")\n",
    "print(f\"The r-squared is: {rvalue}\")\n",
    "print(\"The regression displays a negative correlation.\")\n",
    "plt.show()"
   ]
  },
  {
   "cell_type": "markdown",
   "metadata": {},
   "source": [
    "## Poverty Rate vs. infect count Plot by zipcode"
   ]
  },
  {
   "cell_type": "code",
   "execution_count": 33,
   "metadata": {},
   "outputs": [
    {
     "name": "stdout",
     "output_type": "stream",
     "text": [
      "The r-squared is: 0.49997866540383545\n",
      "The regression displays a positive correlation.\n"
     ]
    },
    {
     "data": {
      "image/png": "[encoded data removed]",
      "text/plain": [
       "<Figure size 432x288 with 1 Axes>"
      ]
     },
     "metadata": {
      "needs_background": "light"
     },
     "output_type": "display_data"
    }
   ],
   "source": [
    "x_values = santa_clara_covin_zipcode_final[\"Poverty Rate\"].astype(float)\n",
    "y_values = santa_clara_covin_zipcode_final[\"infect count\"].astype(float)\n",
    "(slope, intercept, rvalue, pvalue, stderr) = linregress(x_values, y_values)\n",
    "regress_values = x_values * slope + intercept\n",
    "line_eq = \"y = \" + str(round(slope,2)) + \"x + \" + str(round(intercept,2))\n",
    "plt.scatter(x_values,y_values)\n",
    "plt.plot(x_values,regress_values,\"r-\")\n",
    "plt.annotate(line_eq,(10,300),fontsize=15,color=\"red\")\n",
    "plt.xlabel('Poverty Rate')\n",
    "plt.ylabel('infect count')\n",
    "plt.title(f\"infect count vs. Poverty Rate Linear Regression\")\n",
    "print(f\"The r-squared is: {rvalue}\")\n",
    "print(\"The regression displays a positive correlation.\")\n",
    "plt.show()"
   ]
  },
  {
   "cell_type": "markdown",
   "metadata": {},
   "source": [
    "## Employment Rate vs. infect count Plot by zipcode"
   ]
  },
  {
   "cell_type": "code",
   "execution_count": 132,
   "metadata": {},
   "outputs": [
    {
     "name": "stdout",
     "output_type": "stream",
     "text": [
      "The r-squared is: -0.22710517006415\n",
      "The regression displays a negative correlation.\n"
     ]
    },
    {
     "data": {
      "image/png": "[encoded data removed]",
      "text/plain": [
       "<Figure size 432x288 with 1 Axes>"
      ]
     },
     "metadata": {
      "needs_background": "light"
     },
     "output_type": "display_data"
    }
   ],
   "source": [
    "x_values = santa_clara_covin_zipcode_final[\"Employment Rate\"].astype(float)\n",
    "y_values = santa_clara_covin_zipcode_final[\"infect count\"].astype(float)\n",
    "(slope, intercept, rvalue, pvalue, stderr) = linregress(x_values, y_values)\n",
    "regress_values = x_values * slope + intercept\n",
    "line_eq = \"y = \" + str(round(slope,2)) + \"x + \" + str(round(intercept,2))\n",
    "plt.scatter(x_values,y_values)\n",
    "plt.plot(x_values,regress_values,\"r-\")\n",
    "plt.annotate(line_eq,(90,300),fontsize=15,color=\"red\")\n",
    "plt.xlabel('Employment Rate')\n",
    "plt.ylabel('infect count')\n",
    "plt.title(f\"infect count vs. Employment Rate Linear Regression\")\n",
    "print(f\"The r-squared is: {rvalue}\")\n",
    "print(\"The regression displays a negative correlation.\")\n",
    "plt.show()"
   ]
  },
  {
   "cell_type": "markdown",
   "metadata": {},
   "source": [
    "## Unemployment Rate vs. infect count Plot by zipcode"
   ]
  },
  {
   "cell_type": "code",
   "execution_count": 133,
   "metadata": {},
   "outputs": [
    {
     "name": "stdout",
     "output_type": "stream",
     "text": [
      "The r-squared is: 0.22914120272144817\n",
      "The regression displays a negative correlation.\n"
     ]
    },
    {
     "data": {
      "image/png": "[encoded data removed]",
      "text/plain": [
       "<Figure size 432x288 with 1 Axes>"
      ]
     },
     "metadata": {
      "needs_background": "light"
     },
     "output_type": "display_data"
    }
   ],
   "source": [
    "x_values = santa_clara_covin_zipcode_final[\"Unemployment Rate\"].astype(float)\n",
    "y_values = santa_clara_covin_zipcode_final[\"infect count\"].astype(float)\n",
    "(slope, intercept, rvalue, pvalue, stderr) = linregress(x_values, y_values)\n",
    "regress_values = x_values * slope + intercept\n",
    "line_eq = \"y = \" + str(round(slope,2)) + \"x + \" + str(round(intercept,2))\n",
    "plt.scatter(x_values,y_values)\n",
    "plt.plot(x_values,regress_values,\"r-\")\n",
    "plt.annotate(line_eq,(3,300),fontsize=15,color=\"red\")\n",
    "plt.xlabel('Unemployment Rate')\n",
    "plt.ylabel('infect count')\n",
    "plt.title(f\"infect count vs. Unemployment Rate Linear Regression\")\n",
    "print(f\"The r-squared is: {rvalue}\")\n",
    "print(\"The regression displays a negative correlation.\")\n",
    "plt.show()\n"
   ]
  },
  {
   "cell_type": "markdown",
   "metadata": {},
   "source": [
    "## Perform API Calls for new case by date and Plot\n",
    "* Obtain new case by date by API call."
   ]
  },
  {
   "cell_type": "code",
   "execution_count": 134,
   "metadata": {},
   "outputs": [
    {
     "data": {
      "image/png": "[encoded data removed]",
      "text/plain": [
       "<Figure size 504x288 with 1 Axes>"
      ]
     },
     "metadata": {
      "needs_background": "light"
     },
     "output_type": "display_data"
    },
    {
     "data": {
      "text/html": [
       "<div>\n",
       "<style scoped>\n",
       "    .dataframe tbody tr th:only-of-type {\n",
       "        vertical-align: middle;\n",
       "    }\n",
       "\n",
       "    .dataframe tbody tr th {\n",
       "        vertical-align: top;\n",
       "    }\n",
       "\n",
       "    .dataframe thead th {\n",
       "        text-align: right;\n",
       "    }\n",
       "</style>\n",
       "<table border=\"1\" class=\"dataframe\">\n",
       "  <thead>\n",
       "    <tr style=\"text-align: right;\">\n",
       "      <th></th>\n",
       "      <th>date</th>\n",
       "      <th>total case</th>\n",
       "      <th>new case</th>\n",
       "      <th>time</th>\n",
       "    </tr>\n",
       "  </thead>\n",
       "  <tbody>\n",
       "    <tr>\n",
       "      <th>0</th>\n",
       "      <td>2020-01-27</td>\n",
       "      <td>1.0</td>\n",
       "      <td>1.0</td>\n",
       "      <td>00:00:00.000</td>\n",
       "    </tr>\n",
       "    <tr>\n",
       "      <th>1</th>\n",
       "      <td>2020-01-28</td>\n",
       "      <td>1.0</td>\n",
       "      <td>0.0</td>\n",
       "      <td>00:00:00.000</td>\n",
       "    </tr>\n",
       "    <tr>\n",
       "      <th>2</th>\n",
       "      <td>2020-01-29</td>\n",
       "      <td>2.0</td>\n",
       "      <td>1.0</td>\n",
       "      <td>00:00:00.000</td>\n",
       "    </tr>\n",
       "  </tbody>\n",
       "</table>\n",
       "</div>"
      ],
      "text/plain": [
       "         date  total case  new case          time\n",
       "0  2020-01-27         1.0       1.0  00:00:00.000\n",
       "1  2020-01-28         1.0       0.0  00:00:00.000\n",
       "2  2020-01-29         2.0       1.0  00:00:00.000"
      ]
     },
     "execution_count": 134,
     "metadata": {},
     "output_type": "execute_result"
    },
    {
     "data": {
      "text/plain": [
       "<Figure size 432x288 with 0 Axes>"
      ]
     },
     "metadata": {},
     "output_type": "display_data"
    }
   ],
   "source": [
    "#call api\n",
    "url = \"https://data.sccgov.org/resource/6cnm-gchg.json\"\n",
    "response = requests.get(url).json() \n",
    "#create dataframe \n",
    "santa_clara_covin_date = pd.DataFrame(response)\n",
    "#clean the data \n",
    "santa_clara_covin_date = santa_clara_covin_date.dropna()\n",
    "#rename \n",
    "santa_clara_covin_date = santa_clara_covin_date.rename(\\\n",
    "                        columns={\"new_cases\": \"new case\", #rename column\n",
    "                                 \"total_cases\": \"total case\"\n",
    "                                })\n",
    "#get date from date column\n",
    "santa_clara_covin_date[['date','time']] \\\n",
    "    = santa_clara_covin_date[\"date\"].str.split(\"T\",expand=True)\n",
    "santa_clara_covin_date[[\"new case\",\"total case\"]] = \\\n",
    "    santa_clara_covin_date[[\"new case\",\"total case\"]].astype(float)\n",
    "santa_clara_covin_date_chart=santa_clara_covin_date.loc[:,[\"date\",\"new case\"]]\n",
    "multi_plot = santa_clara_covin_date_chart.plot.line(x=\"date\", title=\"New case in Santa Clara\", figsize=(7,4));\n",
    "plt.xticks(rotation=45)\n",
    "plt.xlabel(\"Date\")\n",
    "plt.ylabel(\"Infection Covin-19\")\n",
    "plt.show()\n",
    "plt.tight_layout()\n",
    "santa_clara_covin_date.head(3)"
   ]
  },
  {
   "cell_type": "markdown",
   "metadata": {},
   "source": [
    "## Perform API Calls for death case by date and Plot\n",
    "* Obtain death case by date by API call."
   ]
  },
  {
   "cell_type": "code",
   "execution_count": 136,
   "metadata": {},
   "outputs": [
    {
     "data": {
      "image/png": "[encoded data removed]",
      "text/plain": [
       "<Figure size 504x288 with 1 Axes>"
      ]
     },
     "metadata": {
      "needs_background": "light"
     },
     "output_type": "display_data"
    },
    {
     "data": {
      "text/html": [
       "<div>\n",
       "<style scoped>\n",
       "    .dataframe tbody tr th:only-of-type {\n",
       "        vertical-align: middle;\n",
       "    }\n",
       "\n",
       "    .dataframe tbody tr th {\n",
       "        vertical-align: top;\n",
       "    }\n",
       "\n",
       "    .dataframe thead th {\n",
       "        text-align: right;\n",
       "    }\n",
       "</style>\n",
       "<table border=\"1\" class=\"dataframe\">\n",
       "  <thead>\n",
       "    <tr style=\"text-align: right;\">\n",
       "      <th></th>\n",
       "      <th>date</th>\n",
       "      <th>ltcf</th>\n",
       "      <th>non_ltcf</th>\n",
       "      <th>total</th>\n",
       "      <th>cumulative</th>\n",
       "      <th>time</th>\n",
       "    </tr>\n",
       "  </thead>\n",
       "  <tbody>\n",
       "    <tr>\n",
       "      <th>0</th>\n",
       "      <td>2020-02-06</td>\n",
       "      <td>0.0</td>\n",
       "      <td>1.0</td>\n",
       "      <td>1</td>\n",
       "      <td>1.0</td>\n",
       "      <td>00:00:00.000</td>\n",
       "    </tr>\n",
       "    <tr>\n",
       "      <th>1</th>\n",
       "      <td>2020-02-17</td>\n",
       "      <td>0.0</td>\n",
       "      <td>1.0</td>\n",
       "      <td>1</td>\n",
       "      <td>2.0</td>\n",
       "      <td>00:00:00.000</td>\n",
       "    </tr>\n",
       "    <tr>\n",
       "      <th>2</th>\n",
       "      <td>2020-03-06</td>\n",
       "      <td>0.0</td>\n",
       "      <td>1.0</td>\n",
       "      <td>1</td>\n",
       "      <td>3.0</td>\n",
       "      <td>00:00:00.000</td>\n",
       "    </tr>\n",
       "  </tbody>\n",
       "</table>\n",
       "</div>"
      ],
      "text/plain": [
       "         date  ltcf  non_ltcf total  cumulative          time\n",
       "0  2020-02-06   0.0       1.0     1         1.0  00:00:00.000\n",
       "1  2020-02-17   0.0       1.0     1         2.0  00:00:00.000\n",
       "2  2020-03-06   0.0       1.0     1         3.0  00:00:00.000"
      ]
     },
     "execution_count": 136,
     "metadata": {},
     "output_type": "execute_result"
    },
    {
     "data": {
      "text/plain": [
       "<Figure size 432x288 with 0 Axes>"
      ]
     },
     "metadata": {},
     "output_type": "display_data"
    }
   ],
   "source": [
    "#call api\n",
    "url = \"https://data.sccgov.org/resource/tg4j-23y2.json\"\n",
    "response = requests.get(url).json() \n",
    "#create dataframe \n",
    "santa_clara_covin_death_date = pd.DataFrame(response)\n",
    "santa_clara_covin_death_date = santa_clara_covin_death_date.dropna()\n",
    "santa_clara_covin_death_date[['date','time']] \\\n",
    "    = santa_clara_covin_death_date[\"date\"].str.split(\"T\",expand=True)\n",
    "\n",
    "\n",
    "santa_clara_covin_death_date[[\"non_ltcf\",\"ltcf\",\"cumulative\"]] = \\\n",
    "    santa_clara_covin_death_date[[\"non_ltcf\",\"ltcf\", \"cumulative\"]].astype(float)\n",
    "santa_clara_covin_death_date_chart=\\\n",
    "    santa_clara_covin_death_date.loc[:,[\"date\",\"cumulative\"]]\n",
    "multi_plot = santa_clara_covin_death_date_chart.plot.line(x=\"date\", title=\"Death case in Santa Clara hospital\", figsize=(7,4));\n",
    "plt.xticks(rotation=45 )\n",
    "plt.xlabel(\"Date\")\n",
    "plt.ylabel(\"Death case Covin-19\")\n",
    "plt.show()\n",
    "plt.tight_layout()\n",
    "santa_clara_covin_death_date.head(3)"
   ]
  },
  {
   "cell_type": "markdown",
   "metadata": {},
   "source": [
    "## Perform API Calls for the positive case by date and Plot\n",
    "* Obtain the positive case by date by API call."
   ]
  },
  {
   "cell_type": "code",
   "execution_count": 137,
   "metadata": {},
   "outputs": [
    {
     "data": {
      "image/png": "[encoded data removed]",
      "text/plain": [
       "<Figure size 504x288 with 1 Axes>"
      ]
     },
     "metadata": {
      "needs_background": "light"
     },
     "output_type": "display_data"
    },
    {
     "data": {
      "text/html": [
       "<div>\n",
       "<style scoped>\n",
       "    .dataframe tbody tr th:only-of-type {\n",
       "        vertical-align: middle;\n",
       "    }\n",
       "\n",
       "    .dataframe tbody tr th {\n",
       "        vertical-align: top;\n",
       "    }\n",
       "\n",
       "    .dataframe thead th {\n",
       "        text-align: right;\n",
       "    }\n",
       "</style>\n",
       "<table border=\"1\" class=\"dataframe\">\n",
       "  <thead>\n",
       "    <tr style=\"text-align: right;\">\n",
       "      <th></th>\n",
       "      <th>collection_date</th>\n",
       "      <th>post_rslt</th>\n",
       "      <th>neg_rslt</th>\n",
       "      <th>total</th>\n",
       "      <th>rate_pst_7d</th>\n",
       "      <th>test_rate_7d</th>\n",
       "      <th>date</th>\n",
       "      <th>time</th>\n",
       "    </tr>\n",
       "  </thead>\n",
       "  <tbody>\n",
       "    <tr>\n",
       "      <th>6</th>\n",
       "      <td>2020-02-26T00:00:00.000</td>\n",
       "      <td>1.0</td>\n",
       "      <td>1.0</td>\n",
       "      <td>2</td>\n",
       "      <td>0.214</td>\n",
       "      <td>0.058</td>\n",
       "      <td>2020-02-26</td>\n",
       "      <td>00:00:00.000</td>\n",
       "    </tr>\n",
       "    <tr>\n",
       "      <th>7</th>\n",
       "      <td>2020-02-28T00:00:00.000</td>\n",
       "      <td>1.0</td>\n",
       "      <td>1.0</td>\n",
       "      <td>2</td>\n",
       "      <td>0.143</td>\n",
       "      <td>0.065</td>\n",
       "      <td>2020-02-28</td>\n",
       "      <td>00:00:00.000</td>\n",
       "    </tr>\n",
       "    <tr>\n",
       "      <th>8</th>\n",
       "      <td>2020-02-29T00:00:00.000</td>\n",
       "      <td>3.0</td>\n",
       "      <td>0.0</td>\n",
       "      <td>3</td>\n",
       "      <td>0.286</td>\n",
       "      <td>0.080</td>\n",
       "      <td>2020-02-29</td>\n",
       "      <td>00:00:00.000</td>\n",
       "    </tr>\n",
       "  </tbody>\n",
       "</table>\n",
       "</div>"
      ],
      "text/plain": [
       "           collection_date  post_rslt  neg_rslt total  rate_pst_7d  \\\n",
       "6  2020-02-26T00:00:00.000        1.0       1.0     2        0.214   \n",
       "7  2020-02-28T00:00:00.000        1.0       1.0     2        0.143   \n",
       "8  2020-02-29T00:00:00.000        3.0       0.0     3        0.286   \n",
       "\n",
       "   test_rate_7d        date          time  \n",
       "6         0.058  2020-02-26  00:00:00.000  \n",
       "7         0.065  2020-02-28  00:00:00.000  \n",
       "8         0.080  2020-02-29  00:00:00.000  "
      ]
     },
     "execution_count": 137,
     "metadata": {},
     "output_type": "execute_result"
    },
    {
     "data": {
      "text/plain": [
       "<Figure size 432x288 with 0 Axes>"
      ]
     },
     "metadata": {},
     "output_type": "display_data"
    }
   ],
   "source": [
    "#call api\n",
    "url = \"https://data.sccgov.org/resource/dvgc-tzgq.json\"\n",
    "response = requests.get(url).json() \n",
    "santa_clara_covin_test_date = pd.DataFrame(response)\n",
    "#create dataframe \n",
    "santa_clara_covin_test_date = santa_clara_covin_test_date.dropna()\n",
    "santa_clara_covin_test_date[['date','time']] \\\n",
    "    = santa_clara_covin_test_date[\"collection_date\"].str.split(\"T\",expand=True)\n",
    "santa_clara_covin_test_date[[\"neg_rslt\",\"post_rslt\", \"rate_pst_7d\", \"test_rate_7d\"]] = \\\n",
    "    santa_clara_covin_test_date[[\"neg_rslt\",\"post_rslt\", \"rate_pst_7d\", \"test_rate_7d\"]].astype(float)\n",
    "santa_clara_covin_test_date_chart=\\\n",
    "    santa_clara_covin_test_date.loc[:,[\"date\",\"rate_pst_7d\"]]\n",
    "multi_plot = santa_clara_covin_test_date_chart.plot.line(x=\"date\", title=\"7-day rolling average positivity rate in Santa Clara hospital\", figsize=(7,4));\n",
    "plt.xticks(rotation=45)\n",
    "plt.xlabel(\"Date\")\n",
    "plt.ylabel(\"7-day rolling average positivity rate Covin-19\")\n",
    "plt.show()\n",
    "plt.tight_layout()\n",
    "santa_clara_covin_test_date.head(3)"
   ]
  },
  {
   "cell_type": "markdown",
   "metadata": {},
   "source": [
    "## Perform API Calls for ICU beds available by date and Plot\n",
    "* Obtain the ICU beds available by date by API call."
   ]
  },
  {
   "cell_type": "code",
   "execution_count": 138,
   "metadata": {},
   "outputs": [
    {
     "data": {
      "image/png": "[encoded data removed]",
      "text/plain": [
       "<Figure size 504x288 with 1 Axes>"
      ]
     },
     "metadata": {
      "needs_background": "light"
     },
     "output_type": "display_data"
    },
    {
     "data": {
      "text/html": [
       "<div>\n",
       "<style scoped>\n",
       "    .dataframe tbody tr th:only-of-type {\n",
       "        vertical-align: middle;\n",
       "    }\n",
       "\n",
       "    .dataframe tbody tr th {\n",
       "        vertical-align: top;\n",
       "    }\n",
       "\n",
       "    .dataframe thead th {\n",
       "        text-align: right;\n",
       "    }\n",
       "</style>\n",
       "<table border=\"1\" class=\"dataframe\">\n",
       "  <thead>\n",
       "    <tr style=\"text-align: right;\">\n",
       "      <th></th>\n",
       "      <th>date</th>\n",
       "      <th>icu covid</th>\n",
       "      <th>icu_pui</th>\n",
       "      <th>icu available</th>\n",
       "      <th>non icu covid</th>\n",
       "      <th>non_icu_pui</th>\n",
       "      <th>non icu available</th>\n",
       "      <th>vents_pts</th>\n",
       "      <th>covid_total</th>\n",
       "      <th>pui_total</th>\n",
       "      <th>...</th>\n",
       "      <th>icu_covid_pui_pct_7davg</th>\n",
       "      <th>non_icu_covid_pct_7davg</th>\n",
       "      <th>non_icu_covid_pui_pct_7davg</th>\n",
       "      <th>icu_other</th>\n",
       "      <th>non_icu_other</th>\n",
       "      <th>ped_covid_pui</th>\n",
       "      <th>covid_new</th>\n",
       "      <th>ped_icu_beds</th>\n",
       "      <th>vents_available</th>\n",
       "      <th>time</th>\n",
       "    </tr>\n",
       "  </thead>\n",
       "  <tbody>\n",
       "    <tr>\n",
       "      <th>52</th>\n",
       "      <td>2020-05-18</td>\n",
       "      <td>17.0</td>\n",
       "      <td>2</td>\n",
       "      <td>142.0</td>\n",
       "      <td>28.0</td>\n",
       "      <td>26</td>\n",
       "      <td>784.0</td>\n",
       "      <td>157</td>\n",
       "      <td>45</td>\n",
       "      <td>28</td>\n",
       "      <td>...</td>\n",
       "      <td>0.068</td>\n",
       "      <td>0.014</td>\n",
       "      <td>0.024</td>\n",
       "      <td>162</td>\n",
       "      <td>1103</td>\n",
       "      <td>1</td>\n",
       "      <td>3</td>\n",
       "      <td>36</td>\n",
       "      <td>412</td>\n",
       "      <td>00:00:00.000</td>\n",
       "    </tr>\n",
       "    <tr>\n",
       "      <th>53</th>\n",
       "      <td>2020-05-19</td>\n",
       "      <td>15.0</td>\n",
       "      <td>1</td>\n",
       "      <td>134.0</td>\n",
       "      <td>21.0</td>\n",
       "      <td>25</td>\n",
       "      <td>818.0</td>\n",
       "      <td>153</td>\n",
       "      <td>36</td>\n",
       "      <td>26</td>\n",
       "      <td>...</td>\n",
       "      <td>0.066</td>\n",
       "      <td>0.013</td>\n",
       "      <td>0.024</td>\n",
       "      <td>184</td>\n",
       "      <td>1052</td>\n",
       "      <td>1</td>\n",
       "      <td>5</td>\n",
       "      <td>32</td>\n",
       "      <td>442</td>\n",
       "      <td>00:00:00.000</td>\n",
       "    </tr>\n",
       "    <tr>\n",
       "      <th>54</th>\n",
       "      <td>2020-05-20</td>\n",
       "      <td>15.0</td>\n",
       "      <td>0</td>\n",
       "      <td>122.0</td>\n",
       "      <td>18.0</td>\n",
       "      <td>19</td>\n",
       "      <td>801.0</td>\n",
       "      <td>153</td>\n",
       "      <td>33</td>\n",
       "      <td>19</td>\n",
       "      <td>...</td>\n",
       "      <td>0.062</td>\n",
       "      <td>0.012</td>\n",
       "      <td>0.023</td>\n",
       "      <td>197</td>\n",
       "      <td>1079</td>\n",
       "      <td>1</td>\n",
       "      <td>2</td>\n",
       "      <td>32</td>\n",
       "      <td>455</td>\n",
       "      <td>00:00:00.000</td>\n",
       "    </tr>\n",
       "  </tbody>\n",
       "</table>\n",
       "<p>3 rows × 26 columns</p>\n",
       "</div>"
      ],
      "text/plain": [
       "          date  icu covid icu_pui  icu available  non icu covid non_icu_pui  \\\n",
       "52  2020-05-18       17.0       2          142.0           28.0          26   \n",
       "53  2020-05-19       15.0       1          134.0           21.0          25   \n",
       "54  2020-05-20       15.0       0          122.0           18.0          19   \n",
       "\n",
       "    non icu available vents_pts covid_total pui_total  ...  \\\n",
       "52              784.0       157          45        28  ...   \n",
       "53              818.0       153          36        26  ...   \n",
       "54              801.0       153          33        19  ...   \n",
       "\n",
       "   icu_covid_pui_pct_7davg non_icu_covid_pct_7davg  \\\n",
       "52                   0.068                   0.014   \n",
       "53                   0.066                   0.013   \n",
       "54                   0.062                   0.012   \n",
       "\n",
       "   non_icu_covid_pui_pct_7davg icu_other non_icu_other ped_covid_pui  \\\n",
       "52                       0.024       162          1103             1   \n",
       "53                       0.024       184          1052             1   \n",
       "54                       0.023       197          1079             1   \n",
       "\n",
       "   covid_new ped_icu_beds vents_available          time  \n",
       "52         3           36             412  00:00:00.000  \n",
       "53         5           32             442  00:00:00.000  \n",
       "54         2           32             455  00:00:00.000  \n",
       "\n",
       "[3 rows x 26 columns]"
      ]
     },
     "execution_count": 138,
     "metadata": {},
     "output_type": "execute_result"
    },
    {
     "data": {
      "text/plain": [
       "<Figure size 432x288 with 0 Axes>"
      ]
     },
     "metadata": {},
     "output_type": "display_data"
    }
   ],
   "source": [
    "# call api\n",
    "url = \"https://data.sccgov.org/resource/5xkz-6esm.json\"\n",
    "response = requests.get(url).json()  \n",
    "#create api\n",
    "santa_clara_covin_hospital_date = pd.DataFrame(response)\n",
    "santa_clara_covin_hospital_date = santa_clara_covin_hospital_date.dropna()\n",
    "santa_clara_covin_hospital_date[['date','time']] \\\n",
    "    = santa_clara_covin_hospital_date[\"date\"].str.split(\"T\",expand=True)\n",
    "\n",
    "santa_clara_covin_hospital_date = santa_clara_covin_hospital_date.rename(\\\n",
    "                        columns={\"icu_covid\": \"icu covid\", #rename column\n",
    "                                 \"icu_available\": \"icu available\",\n",
    "                                 \"non_icu_covid\": \"non icu covid\",\n",
    "                                 \"non_icu_available\": \"non icu available\",\n",
    "                                })\n",
    "santa_clara_covin_hospital_date[[\"icu covid\", \"icu available\", \"non icu covid\", \"non icu available\"]] = \\\n",
    "    santa_clara_covin_hospital_date[[\"icu covid\", \"icu available\", \"non icu covid\", \"non icu available\"]].astype(float)\n",
    "santa_clara_covin_hospital_date_chart=\\\n",
    "    santa_clara_covin_hospital_date.loc[:,[\"date\",\"icu covid\", \"icu available\", \"non icu covid\"]]\n",
    "multi_plot = santa_clara_covin_hospital_date_chart.plot.line(x=\"date\", title=\"ICU beds available in Santa Clara hospital\", figsize=(7,4));\n",
    "plt.xticks(rotation=45 ) \n",
    "plt.xlabel(\"Date\")\n",
    "plt.ylabel(\"patient covin-19 and icu bed available\")\n",
    "plt.show()\n",
    "plt.tight_layout()\n",
    "santa_clara_covin_hospital_date.head(3)"
   ]
  },
  {
   "cell_type": "code",
   "execution_count": null,
   "metadata": {},
   "outputs": [],
   "source": []
  }
 ],
 "metadata": {
  "kernelspec": {
   "display_name": "Python 3",
   "language": "python",
   "name": "python3"
  },
  "language_info": {
   "codemirror_mode": {
    "name": "ipython",
    "version": 3
   },
   "file_extension": ".py",
   "mimetype": "text/x-python",
   "name": "python",
   "nbconvert_exporter": "python",
   "pygments_lexer": "ipython3",
   "version": "3.7.6"
  }
 },
 "nbformat": 4,
 "nbformat_minor": 4
}
